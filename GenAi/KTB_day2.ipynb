{
  "nbformat": 4,
  "nbformat_minor": 0,
  "metadata": {
    "colab": {
      "provenance": [],
      "mount_file_id": "1U5n1TcJ7qVfkjhcmF1aVArAA_EdULAfU",
      "authorship_tag": "ABX9TyOIrJ+6CYBQudtTMHeQPon9",
      "include_colab_link": true
    },
    "kernelspec": {
      "name": "python3",
      "display_name": "Python 3"
    },
    "language_info": {
      "name": "python"
    }
  },
  "cells": [
    {
      "cell_type": "markdown",
      "metadata": {
        "id": "view-in-github",
        "colab_type": "text"
      },
      "source": [
        "<a href=\"https://colab.research.google.com/github/myungseonSim/kakao-tech/blob/main/GenAi/KTB_day2.ipynb\" target=\"_parent\"><img src=\"https://colab.research.google.com/assets/colab-badge.svg\" alt=\"Open In Colab\"/></a>"
      ]
    },
    {
      "cell_type": "markdown",
      "source": [
        "실습과제 : kaggle의 데이터를 선정해 데이터 파이프라인 구축해보기\n",
        "\n"
      ],
      "metadata": {
        "id": "a2i9OXWaRY2o"
      }
    },
    {
      "cell_type": "code",
      "execution_count": 36,
      "metadata": {
        "colab": {
          "base_uri": "https://localhost:8080/"
        },
        "id": "ZeLn_FOARVJ4",
        "outputId": "6fbd1563-6e07-4121-cabc-68b9719a462c"
      },
      "outputs": [
        {
          "output_type": "stream",
          "name": "stdout",
          "text": [
            "Requirement already satisfied: kaggle in /usr/local/lib/python3.10/dist-packages (1.6.14)\n",
            "Requirement already satisfied: six>=1.10 in /usr/local/lib/python3.10/dist-packages (from kaggle) (1.16.0)\n",
            "Requirement already satisfied: certifi>=2023.7.22 in /usr/local/lib/python3.10/dist-packages (from kaggle) (2024.6.2)\n",
            "Requirement already satisfied: python-dateutil in /usr/local/lib/python3.10/dist-packages (from kaggle) (2.8.2)\n",
            "Requirement already satisfied: requests in /usr/local/lib/python3.10/dist-packages (from kaggle) (2.31.0)\n",
            "Requirement already satisfied: tqdm in /usr/local/lib/python3.10/dist-packages (from kaggle) (4.66.4)\n",
            "Requirement already satisfied: python-slugify in /usr/local/lib/python3.10/dist-packages (from kaggle) (8.0.4)\n",
            "Requirement already satisfied: urllib3 in /usr/local/lib/python3.10/dist-packages (from kaggle) (2.0.7)\n",
            "Requirement already satisfied: bleach in /usr/local/lib/python3.10/dist-packages (from kaggle) (6.1.0)\n",
            "Requirement already satisfied: webencodings in /usr/local/lib/python3.10/dist-packages (from bleach->kaggle) (0.5.1)\n",
            "Requirement already satisfied: text-unidecode>=1.3 in /usr/local/lib/python3.10/dist-packages (from python-slugify->kaggle) (1.3)\n",
            "Requirement already satisfied: charset-normalizer<4,>=2 in /usr/local/lib/python3.10/dist-packages (from requests->kaggle) (3.3.2)\n",
            "Requirement already satisfied: idna<4,>=2.5 in /usr/local/lib/python3.10/dist-packages (from requests->kaggle) (3.7)\n"
          ]
        }
      ],
      "source": [
        "!pip install kaggle"
      ]
    },
    {
      "cell_type": "code",
      "source": [
        "!kaggle datasets download -d rabieelkharoua/predict-restaurant-customer-satisfaction-dataset"
      ],
      "metadata": {
        "colab": {
          "base_uri": "https://localhost:8080/"
        },
        "id": "RdzKYd4iz3wb",
        "outputId": "96dd1f6b-9982-4c5d-f708-dc86ffb7265e"
      },
      "execution_count": 70,
      "outputs": [
        {
          "output_type": "stream",
          "name": "stdout",
          "text": [
            "Dataset URL: https://www.kaggle.com/datasets/rabieelkharoua/predict-restaurant-customer-satisfaction-dataset\n",
            "License(s): Attribution 4.0 International (CC BY 4.0)\n",
            "predict-restaurant-customer-satisfaction-dataset.zip: Skipping, found more recently modified local copy (use --force to force download)\n"
          ]
        }
      ]
    },
    {
      "cell_type": "code",
      "source": [
        "!unzip predict-restaurant-customer-satisfaction-dataset.zip"
      ],
      "metadata": {
        "colab": {
          "base_uri": "https://localhost:8080/"
        },
        "id": "9rrdv0CR0Fj1",
        "outputId": "6da14f69-8db9-4001-9151-d88eeea0cbb7"
      },
      "execution_count": 71,
      "outputs": [
        {
          "output_type": "stream",
          "name": "stdout",
          "text": [
            "Archive:  predict-restaurant-customer-satisfaction-dataset.zip\n",
            "replace restaurant_customer_satisfaction.csv? [y]es, [n]o, [A]ll, [N]one, [r]ename: "
          ]
        }
      ]
    },
    {
      "cell_type": "code",
      "source": [
        "import pandas as pd\n",
        "\n",
        "data = pd.read_csv('restaurant_customer_satisfaction.csv')"
      ],
      "metadata": {
        "id": "Wt7uySGh0Ne6"
      },
      "execution_count": 45,
      "outputs": []
    },
    {
      "cell_type": "code",
      "source": [
        "data.info()"
      ],
      "metadata": {
        "colab": {
          "base_uri": "https://localhost:8080/"
        },
        "id": "TTU9spsk0URg",
        "outputId": "cb897b88-dfc1-4b4a-beb2-8bd1cbe0b2db"
      },
      "execution_count": 46,
      "outputs": [
        {
          "output_type": "stream",
          "name": "stdout",
          "text": [
            "<class 'pandas.core.frame.DataFrame'>\n",
            "RangeIndex: 1500 entries, 0 to 1499\n",
            "Data columns (total 19 columns):\n",
            " #   Column                Non-Null Count  Dtype  \n",
            "---  ------                --------------  -----  \n",
            " 0   CustomerID            1500 non-null   int64  \n",
            " 1   Age                   1500 non-null   int64  \n",
            " 2   Gender                1500 non-null   object \n",
            " 3   Income                1500 non-null   int64  \n",
            " 4   VisitFrequency        1500 non-null   object \n",
            " 5   AverageSpend          1500 non-null   float64\n",
            " 6   PreferredCuisine      1500 non-null   object \n",
            " 7   TimeOfVisit           1500 non-null   object \n",
            " 8   GroupSize             1500 non-null   int64  \n",
            " 9   DiningOccasion        1500 non-null   object \n",
            " 10  MealType              1500 non-null   object \n",
            " 11  OnlineReservation     1500 non-null   int64  \n",
            " 12  DeliveryOrder         1500 non-null   int64  \n",
            " 13  LoyaltyProgramMember  1500 non-null   int64  \n",
            " 14  WaitTime              1500 non-null   float64\n",
            " 15  ServiceRating         1500 non-null   int64  \n",
            " 16  FoodRating            1500 non-null   int64  \n",
            " 17  AmbianceRating        1500 non-null   int64  \n",
            " 18  HighSatisfaction      1500 non-null   int64  \n",
            "dtypes: float64(2), int64(11), object(6)\n",
            "memory usage: 222.8+ KB\n"
          ]
        }
      ]
    },
    {
      "cell_type": "code",
      "source": [
        "data.head(5)"
      ],
      "metadata": {
        "colab": {
          "base_uri": "https://localhost:8080/",
          "height": 226
        },
        "id": "QjL-tgFM0f2R",
        "outputId": "cb4015e8-a038-4b32-9ad9-07002dafa32d"
      },
      "execution_count": 47,
      "outputs": [
        {
          "output_type": "execute_result",
          "data": {
            "text/plain": [
              "   CustomerID  Age  Gender  Income VisitFrequency  AverageSpend  \\\n",
              "0         654   35    Male   83380         Weekly     27.829142   \n",
              "1         655   19    Male   43623         Rarely    115.408622   \n",
              "2         656   41  Female   83737         Weekly    106.693771   \n",
              "3         657   43    Male   96768         Rarely     43.508508   \n",
              "4         658   55  Female   67937        Monthly    148.084627   \n",
              "\n",
              "  PreferredCuisine TimeOfVisit  GroupSize DiningOccasion  MealType  \\\n",
              "0          Chinese   Breakfast          3       Business  Takeaway   \n",
              "1         American      Dinner          1         Casual   Dine-in   \n",
              "2         American      Dinner          6    Celebration   Dine-in   \n",
              "3           Indian       Lunch          1    Celebration   Dine-in   \n",
              "4          Chinese   Breakfast          1       Business  Takeaway   \n",
              "\n",
              "   OnlineReservation  DeliveryOrder  LoyaltyProgramMember   WaitTime  \\\n",
              "0                  0              1                     1  43.523929   \n",
              "1                  0              0                     0  57.524294   \n",
              "2                  0              1                     0  48.682623   \n",
              "3                  0              0                     0   7.552993   \n",
              "4                  0              0                     1  37.789041   \n",
              "\n",
              "   ServiceRating  FoodRating  AmbianceRating  HighSatisfaction  \n",
              "0              2           5               4                 0  \n",
              "1              5           5               3                 0  \n",
              "2              3           4               5                 0  \n",
              "3              4           5               1                 0  \n",
              "4              2           3               5                 0  "
            ],
            "text/html": [
              "\n",
              "  <div id=\"df-4d93517b-f1a8-4f80-9552-1fc416a29b38\" class=\"colab-df-container\">\n",
              "    <div>\n",
              "<style scoped>\n",
              "    .dataframe tbody tr th:only-of-type {\n",
              "        vertical-align: middle;\n",
              "    }\n",
              "\n",
              "    .dataframe tbody tr th {\n",
              "        vertical-align: top;\n",
              "    }\n",
              "\n",
              "    .dataframe thead th {\n",
              "        text-align: right;\n",
              "    }\n",
              "</style>\n",
              "<table border=\"1\" class=\"dataframe\">\n",
              "  <thead>\n",
              "    <tr style=\"text-align: right;\">\n",
              "      <th></th>\n",
              "      <th>CustomerID</th>\n",
              "      <th>Age</th>\n",
              "      <th>Gender</th>\n",
              "      <th>Income</th>\n",
              "      <th>VisitFrequency</th>\n",
              "      <th>AverageSpend</th>\n",
              "      <th>PreferredCuisine</th>\n",
              "      <th>TimeOfVisit</th>\n",
              "      <th>GroupSize</th>\n",
              "      <th>DiningOccasion</th>\n",
              "      <th>MealType</th>\n",
              "      <th>OnlineReservation</th>\n",
              "      <th>DeliveryOrder</th>\n",
              "      <th>LoyaltyProgramMember</th>\n",
              "      <th>WaitTime</th>\n",
              "      <th>ServiceRating</th>\n",
              "      <th>FoodRating</th>\n",
              "      <th>AmbianceRating</th>\n",
              "      <th>HighSatisfaction</th>\n",
              "    </tr>\n",
              "  </thead>\n",
              "  <tbody>\n",
              "    <tr>\n",
              "      <th>0</th>\n",
              "      <td>654</td>\n",
              "      <td>35</td>\n",
              "      <td>Male</td>\n",
              "      <td>83380</td>\n",
              "      <td>Weekly</td>\n",
              "      <td>27.829142</td>\n",
              "      <td>Chinese</td>\n",
              "      <td>Breakfast</td>\n",
              "      <td>3</td>\n",
              "      <td>Business</td>\n",
              "      <td>Takeaway</td>\n",
              "      <td>0</td>\n",
              "      <td>1</td>\n",
              "      <td>1</td>\n",
              "      <td>43.523929</td>\n",
              "      <td>2</td>\n",
              "      <td>5</td>\n",
              "      <td>4</td>\n",
              "      <td>0</td>\n",
              "    </tr>\n",
              "    <tr>\n",
              "      <th>1</th>\n",
              "      <td>655</td>\n",
              "      <td>19</td>\n",
              "      <td>Male</td>\n",
              "      <td>43623</td>\n",
              "      <td>Rarely</td>\n",
              "      <td>115.408622</td>\n",
              "      <td>American</td>\n",
              "      <td>Dinner</td>\n",
              "      <td>1</td>\n",
              "      <td>Casual</td>\n",
              "      <td>Dine-in</td>\n",
              "      <td>0</td>\n",
              "      <td>0</td>\n",
              "      <td>0</td>\n",
              "      <td>57.524294</td>\n",
              "      <td>5</td>\n",
              "      <td>5</td>\n",
              "      <td>3</td>\n",
              "      <td>0</td>\n",
              "    </tr>\n",
              "    <tr>\n",
              "      <th>2</th>\n",
              "      <td>656</td>\n",
              "      <td>41</td>\n",
              "      <td>Female</td>\n",
              "      <td>83737</td>\n",
              "      <td>Weekly</td>\n",
              "      <td>106.693771</td>\n",
              "      <td>American</td>\n",
              "      <td>Dinner</td>\n",
              "      <td>6</td>\n",
              "      <td>Celebration</td>\n",
              "      <td>Dine-in</td>\n",
              "      <td>0</td>\n",
              "      <td>1</td>\n",
              "      <td>0</td>\n",
              "      <td>48.682623</td>\n",
              "      <td>3</td>\n",
              "      <td>4</td>\n",
              "      <td>5</td>\n",
              "      <td>0</td>\n",
              "    </tr>\n",
              "    <tr>\n",
              "      <th>3</th>\n",
              "      <td>657</td>\n",
              "      <td>43</td>\n",
              "      <td>Male</td>\n",
              "      <td>96768</td>\n",
              "      <td>Rarely</td>\n",
              "      <td>43.508508</td>\n",
              "      <td>Indian</td>\n",
              "      <td>Lunch</td>\n",
              "      <td>1</td>\n",
              "      <td>Celebration</td>\n",
              "      <td>Dine-in</td>\n",
              "      <td>0</td>\n",
              "      <td>0</td>\n",
              "      <td>0</td>\n",
              "      <td>7.552993</td>\n",
              "      <td>4</td>\n",
              "      <td>5</td>\n",
              "      <td>1</td>\n",
              "      <td>0</td>\n",
              "    </tr>\n",
              "    <tr>\n",
              "      <th>4</th>\n",
              "      <td>658</td>\n",
              "      <td>55</td>\n",
              "      <td>Female</td>\n",
              "      <td>67937</td>\n",
              "      <td>Monthly</td>\n",
              "      <td>148.084627</td>\n",
              "      <td>Chinese</td>\n",
              "      <td>Breakfast</td>\n",
              "      <td>1</td>\n",
              "      <td>Business</td>\n",
              "      <td>Takeaway</td>\n",
              "      <td>0</td>\n",
              "      <td>0</td>\n",
              "      <td>1</td>\n",
              "      <td>37.789041</td>\n",
              "      <td>2</td>\n",
              "      <td>3</td>\n",
              "      <td>5</td>\n",
              "      <td>0</td>\n",
              "    </tr>\n",
              "  </tbody>\n",
              "</table>\n",
              "</div>\n",
              "    <div class=\"colab-df-buttons\">\n",
              "\n",
              "  <div class=\"colab-df-container\">\n",
              "    <button class=\"colab-df-convert\" onclick=\"convertToInteractive('df-4d93517b-f1a8-4f80-9552-1fc416a29b38')\"\n",
              "            title=\"Convert this dataframe to an interactive table.\"\n",
              "            style=\"display:none;\">\n",
              "\n",
              "  <svg xmlns=\"http://www.w3.org/2000/svg\" height=\"24px\" viewBox=\"0 -960 960 960\">\n",
              "    <path d=\"M120-120v-720h720v720H120Zm60-500h600v-160H180v160Zm220 220h160v-160H400v160Zm0 220h160v-160H400v160ZM180-400h160v-160H180v160Zm440 0h160v-160H620v160ZM180-180h160v-160H180v160Zm440 0h160v-160H620v160Z\"/>\n",
              "  </svg>\n",
              "    </button>\n",
              "\n",
              "  <style>\n",
              "    .colab-df-container {\n",
              "      display:flex;\n",
              "      gap: 12px;\n",
              "    }\n",
              "\n",
              "    .colab-df-convert {\n",
              "      background-color: #E8F0FE;\n",
              "      border: none;\n",
              "      border-radius: 50%;\n",
              "      cursor: pointer;\n",
              "      display: none;\n",
              "      fill: #1967D2;\n",
              "      height: 32px;\n",
              "      padding: 0 0 0 0;\n",
              "      width: 32px;\n",
              "    }\n",
              "\n",
              "    .colab-df-convert:hover {\n",
              "      background-color: #E2EBFA;\n",
              "      box-shadow: 0px 1px 2px rgba(60, 64, 67, 0.3), 0px 1px 3px 1px rgba(60, 64, 67, 0.15);\n",
              "      fill: #174EA6;\n",
              "    }\n",
              "\n",
              "    .colab-df-buttons div {\n",
              "      margin-bottom: 4px;\n",
              "    }\n",
              "\n",
              "    [theme=dark] .colab-df-convert {\n",
              "      background-color: #3B4455;\n",
              "      fill: #D2E3FC;\n",
              "    }\n",
              "\n",
              "    [theme=dark] .colab-df-convert:hover {\n",
              "      background-color: #434B5C;\n",
              "      box-shadow: 0px 1px 3px 1px rgba(0, 0, 0, 0.15);\n",
              "      filter: drop-shadow(0px 1px 2px rgba(0, 0, 0, 0.3));\n",
              "      fill: #FFFFFF;\n",
              "    }\n",
              "  </style>\n",
              "\n",
              "    <script>\n",
              "      const buttonEl =\n",
              "        document.querySelector('#df-4d93517b-f1a8-4f80-9552-1fc416a29b38 button.colab-df-convert');\n",
              "      buttonEl.style.display =\n",
              "        google.colab.kernel.accessAllowed ? 'block' : 'none';\n",
              "\n",
              "      async function convertToInteractive(key) {\n",
              "        const element = document.querySelector('#df-4d93517b-f1a8-4f80-9552-1fc416a29b38');\n",
              "        const dataTable =\n",
              "          await google.colab.kernel.invokeFunction('convertToInteractive',\n",
              "                                                    [key], {});\n",
              "        if (!dataTable) return;\n",
              "\n",
              "        const docLinkHtml = 'Like what you see? Visit the ' +\n",
              "          '<a target=\"_blank\" href=https://colab.research.google.com/notebooks/data_table.ipynb>data table notebook</a>'\n",
              "          + ' to learn more about interactive tables.';\n",
              "        element.innerHTML = '';\n",
              "        dataTable['output_type'] = 'display_data';\n",
              "        await google.colab.output.renderOutput(dataTable, element);\n",
              "        const docLink = document.createElement('div');\n",
              "        docLink.innerHTML = docLinkHtml;\n",
              "        element.appendChild(docLink);\n",
              "      }\n",
              "    </script>\n",
              "  </div>\n",
              "\n",
              "\n",
              "<div id=\"df-716cf08f-bb91-4c86-b28d-db10a94bbabc\">\n",
              "  <button class=\"colab-df-quickchart\" onclick=\"quickchart('df-716cf08f-bb91-4c86-b28d-db10a94bbabc')\"\n",
              "            title=\"Suggest charts\"\n",
              "            style=\"display:none;\">\n",
              "\n",
              "<svg xmlns=\"http://www.w3.org/2000/svg\" height=\"24px\"viewBox=\"0 0 24 24\"\n",
              "     width=\"24px\">\n",
              "    <g>\n",
              "        <path d=\"M19 3H5c-1.1 0-2 .9-2 2v14c0 1.1.9 2 2 2h14c1.1 0 2-.9 2-2V5c0-1.1-.9-2-2-2zM9 17H7v-7h2v7zm4 0h-2V7h2v10zm4 0h-2v-4h2v4z\"/>\n",
              "    </g>\n",
              "</svg>\n",
              "  </button>\n",
              "\n",
              "<style>\n",
              "  .colab-df-quickchart {\n",
              "      --bg-color: #E8F0FE;\n",
              "      --fill-color: #1967D2;\n",
              "      --hover-bg-color: #E2EBFA;\n",
              "      --hover-fill-color: #174EA6;\n",
              "      --disabled-fill-color: #AAA;\n",
              "      --disabled-bg-color: #DDD;\n",
              "  }\n",
              "\n",
              "  [theme=dark] .colab-df-quickchart {\n",
              "      --bg-color: #3B4455;\n",
              "      --fill-color: #D2E3FC;\n",
              "      --hover-bg-color: #434B5C;\n",
              "      --hover-fill-color: #FFFFFF;\n",
              "      --disabled-bg-color: #3B4455;\n",
              "      --disabled-fill-color: #666;\n",
              "  }\n",
              "\n",
              "  .colab-df-quickchart {\n",
              "    background-color: var(--bg-color);\n",
              "    border: none;\n",
              "    border-radius: 50%;\n",
              "    cursor: pointer;\n",
              "    display: none;\n",
              "    fill: var(--fill-color);\n",
              "    height: 32px;\n",
              "    padding: 0;\n",
              "    width: 32px;\n",
              "  }\n",
              "\n",
              "  .colab-df-quickchart:hover {\n",
              "    background-color: var(--hover-bg-color);\n",
              "    box-shadow: 0 1px 2px rgba(60, 64, 67, 0.3), 0 1px 3px 1px rgba(60, 64, 67, 0.15);\n",
              "    fill: var(--button-hover-fill-color);\n",
              "  }\n",
              "\n",
              "  .colab-df-quickchart-complete:disabled,\n",
              "  .colab-df-quickchart-complete:disabled:hover {\n",
              "    background-color: var(--disabled-bg-color);\n",
              "    fill: var(--disabled-fill-color);\n",
              "    box-shadow: none;\n",
              "  }\n",
              "\n",
              "  .colab-df-spinner {\n",
              "    border: 2px solid var(--fill-color);\n",
              "    border-color: transparent;\n",
              "    border-bottom-color: var(--fill-color);\n",
              "    animation:\n",
              "      spin 1s steps(1) infinite;\n",
              "  }\n",
              "\n",
              "  @keyframes spin {\n",
              "    0% {\n",
              "      border-color: transparent;\n",
              "      border-bottom-color: var(--fill-color);\n",
              "      border-left-color: var(--fill-color);\n",
              "    }\n",
              "    20% {\n",
              "      border-color: transparent;\n",
              "      border-left-color: var(--fill-color);\n",
              "      border-top-color: var(--fill-color);\n",
              "    }\n",
              "    30% {\n",
              "      border-color: transparent;\n",
              "      border-left-color: var(--fill-color);\n",
              "      border-top-color: var(--fill-color);\n",
              "      border-right-color: var(--fill-color);\n",
              "    }\n",
              "    40% {\n",
              "      border-color: transparent;\n",
              "      border-right-color: var(--fill-color);\n",
              "      border-top-color: var(--fill-color);\n",
              "    }\n",
              "    60% {\n",
              "      border-color: transparent;\n",
              "      border-right-color: var(--fill-color);\n",
              "    }\n",
              "    80% {\n",
              "      border-color: transparent;\n",
              "      border-right-color: var(--fill-color);\n",
              "      border-bottom-color: var(--fill-color);\n",
              "    }\n",
              "    90% {\n",
              "      border-color: transparent;\n",
              "      border-bottom-color: var(--fill-color);\n",
              "    }\n",
              "  }\n",
              "</style>\n",
              "\n",
              "  <script>\n",
              "    async function quickchart(key) {\n",
              "      const quickchartButtonEl =\n",
              "        document.querySelector('#' + key + ' button');\n",
              "      quickchartButtonEl.disabled = true;  // To prevent multiple clicks.\n",
              "      quickchartButtonEl.classList.add('colab-df-spinner');\n",
              "      try {\n",
              "        const charts = await google.colab.kernel.invokeFunction(\n",
              "            'suggestCharts', [key], {});\n",
              "      } catch (error) {\n",
              "        console.error('Error during call to suggestCharts:', error);\n",
              "      }\n",
              "      quickchartButtonEl.classList.remove('colab-df-spinner');\n",
              "      quickchartButtonEl.classList.add('colab-df-quickchart-complete');\n",
              "    }\n",
              "    (() => {\n",
              "      let quickchartButtonEl =\n",
              "        document.querySelector('#df-716cf08f-bb91-4c86-b28d-db10a94bbabc button');\n",
              "      quickchartButtonEl.style.display =\n",
              "        google.colab.kernel.accessAllowed ? 'block' : 'none';\n",
              "    })();\n",
              "  </script>\n",
              "</div>\n",
              "\n",
              "    </div>\n",
              "  </div>\n"
            ],
            "application/vnd.google.colaboratory.intrinsic+json": {
              "type": "dataframe",
              "variable_name": "data",
              "summary": "{\n  \"name\": \"data\",\n  \"rows\": 1500,\n  \"fields\": [\n    {\n      \"column\": \"CustomerID\",\n      \"properties\": {\n        \"dtype\": \"number\",\n        \"std\": 433,\n        \"min\": 654,\n        \"max\": 2153,\n        \"num_unique_values\": 1500,\n        \"samples\": [\n          1770,\n          2022,\n          1076\n        ],\n        \"semantic_type\": \"\",\n        \"description\": \"\"\n      }\n    },\n    {\n      \"column\": \"Age\",\n      \"properties\": {\n        \"dtype\": \"number\",\n        \"std\": 14,\n        \"min\": 18,\n        \"max\": 69,\n        \"num_unique_values\": 52,\n        \"samples\": [\n          18,\n          66,\n          24\n        ],\n        \"semantic_type\": \"\",\n        \"description\": \"\"\n      }\n    },\n    {\n      \"column\": \"Gender\",\n      \"properties\": {\n        \"dtype\": \"category\",\n        \"num_unique_values\": 2,\n        \"samples\": [\n          \"Female\",\n          \"Male\"\n        ],\n        \"semantic_type\": \"\",\n        \"description\": \"\"\n      }\n    },\n    {\n      \"column\": \"Income\",\n      \"properties\": {\n        \"dtype\": \"number\",\n        \"std\": 38183,\n        \"min\": 20012,\n        \"max\": 149875,\n        \"num_unique_values\": 1486,\n        \"samples\": [\n          84659,\n          37896\n        ],\n        \"semantic_type\": \"\",\n        \"description\": \"\"\n      }\n    },\n    {\n      \"column\": \"VisitFrequency\",\n      \"properties\": {\n        \"dtype\": \"category\",\n        \"num_unique_values\": 4,\n        \"samples\": [\n          \"Rarely\",\n          \"Daily\"\n        ],\n        \"semantic_type\": \"\",\n        \"description\": \"\"\n      }\n    },\n    {\n      \"column\": \"AverageSpend\",\n      \"properties\": {\n        \"dtype\": \"number\",\n        \"std\": 52.3818486286635,\n        \"min\": 10.306126713600484,\n        \"max\": 199.9735265228343,\n        \"num_unique_values\": 1500,\n        \"samples\": [\n          81.06013478132715,\n          59.695380542217386\n        ],\n        \"semantic_type\": \"\",\n        \"description\": \"\"\n      }\n    },\n    {\n      \"column\": \"PreferredCuisine\",\n      \"properties\": {\n        \"dtype\": \"category\",\n        \"num_unique_values\": 5,\n        \"samples\": [\n          \"American\",\n          \"Italian\"\n        ],\n        \"semantic_type\": \"\",\n        \"description\": \"\"\n      }\n    },\n    {\n      \"column\": \"TimeOfVisit\",\n      \"properties\": {\n        \"dtype\": \"category\",\n        \"num_unique_values\": 3,\n        \"samples\": [\n          \"Breakfast\",\n          \"Dinner\"\n        ],\n        \"semantic_type\": \"\",\n        \"description\": \"\"\n      }\n    },\n    {\n      \"column\": \"GroupSize\",\n      \"properties\": {\n        \"dtype\": \"number\",\n        \"std\": 2,\n        \"min\": 1,\n        \"max\": 9,\n        \"num_unique_values\": 9,\n        \"samples\": [\n          2,\n          1\n        ],\n        \"semantic_type\": \"\",\n        \"description\": \"\"\n      }\n    },\n    {\n      \"column\": \"DiningOccasion\",\n      \"properties\": {\n        \"dtype\": \"category\",\n        \"num_unique_values\": 3,\n        \"samples\": [\n          \"Business\",\n          \"Casual\"\n        ],\n        \"semantic_type\": \"\",\n        \"description\": \"\"\n      }\n    },\n    {\n      \"column\": \"MealType\",\n      \"properties\": {\n        \"dtype\": \"category\",\n        \"num_unique_values\": 2,\n        \"samples\": [\n          \"Dine-in\",\n          \"Takeaway\"\n        ],\n        \"semantic_type\": \"\",\n        \"description\": \"\"\n      }\n    },\n    {\n      \"column\": \"OnlineReservation\",\n      \"properties\": {\n        \"dtype\": \"number\",\n        \"std\": 0,\n        \"min\": 0,\n        \"max\": 1,\n        \"num_unique_values\": 2,\n        \"samples\": [\n          1,\n          0\n        ],\n        \"semantic_type\": \"\",\n        \"description\": \"\"\n      }\n    },\n    {\n      \"column\": \"DeliveryOrder\",\n      \"properties\": {\n        \"dtype\": \"number\",\n        \"std\": 0,\n        \"min\": 0,\n        \"max\": 1,\n        \"num_unique_values\": 2,\n        \"samples\": [\n          0,\n          1\n        ],\n        \"semantic_type\": \"\",\n        \"description\": \"\"\n      }\n    },\n    {\n      \"column\": \"LoyaltyProgramMember\",\n      \"properties\": {\n        \"dtype\": \"number\",\n        \"std\": 0,\n        \"min\": 0,\n        \"max\": 1,\n        \"num_unique_values\": 2,\n        \"samples\": [\n          0,\n          1\n        ],\n        \"semantic_type\": \"\",\n        \"description\": \"\"\n      }\n    },\n    {\n      \"column\": \"WaitTime\",\n      \"properties\": {\n        \"dtype\": \"number\",\n        \"std\": 17.21418359194195,\n        \"min\": 0.001380296669815,\n        \"max\": 59.97076205449223,\n        \"num_unique_values\": 1500,\n        \"samples\": [\n          34.21781117099494,\n          25.42107384359913\n        ],\n        \"semantic_type\": \"\",\n        \"description\": \"\"\n      }\n    },\n    {\n      \"column\": \"ServiceRating\",\n      \"properties\": {\n        \"dtype\": \"number\",\n        \"std\": 1,\n        \"min\": 1,\n        \"max\": 5,\n        \"num_unique_values\": 5,\n        \"samples\": [\n          5,\n          1\n        ],\n        \"semantic_type\": \"\",\n        \"description\": \"\"\n      }\n    },\n    {\n      \"column\": \"FoodRating\",\n      \"properties\": {\n        \"dtype\": \"number\",\n        \"std\": 1,\n        \"min\": 1,\n        \"max\": 5,\n        \"num_unique_values\": 5,\n        \"samples\": [\n          4,\n          1\n        ],\n        \"semantic_type\": \"\",\n        \"description\": \"\"\n      }\n    },\n    {\n      \"column\": \"AmbianceRating\",\n      \"properties\": {\n        \"dtype\": \"number\",\n        \"std\": 1,\n        \"min\": 1,\n        \"max\": 5,\n        \"num_unique_values\": 5,\n        \"samples\": [\n          3,\n          2\n        ],\n        \"semantic_type\": \"\",\n        \"description\": \"\"\n      }\n    },\n    {\n      \"column\": \"HighSatisfaction\",\n      \"properties\": {\n        \"dtype\": \"number\",\n        \"std\": 0,\n        \"min\": 0,\n        \"max\": 1,\n        \"num_unique_values\": 2,\n        \"samples\": [\n          1,\n          0\n        ],\n        \"semantic_type\": \"\",\n        \"description\": \"\"\n      }\n    }\n  ]\n}"
            }
          },
          "metadata": {},
          "execution_count": 47
        }
      ]
    },
    {
      "cell_type": "code",
      "source": [
        "data.describe()"
      ],
      "metadata": {
        "colab": {
          "base_uri": "https://localhost:8080/",
          "height": 320
        },
        "id": "YJ-TJrsK0tnr",
        "outputId": "ba70d460-ddf9-4ffd-f282-f10d1171cadc"
      },
      "execution_count": 48,
      "outputs": [
        {
          "output_type": "execute_result",
          "data": {
            "text/plain": [
              "        CustomerID          Age         Income  AverageSpend    GroupSize  \\\n",
              "count  1500.000000  1500.000000    1500.000000   1500.000000  1500.000000   \n",
              "mean   1403.500000    43.832000   85921.890000    105.659004     5.035333   \n",
              "std     433.157015    14.967157   38183.051749     52.381849     2.558864   \n",
              "min     654.000000    18.000000   20012.000000     10.306127     1.000000   \n",
              "25%    1028.750000    31.750000   52444.000000     62.287907     3.000000   \n",
              "50%    1403.500000    44.000000   85811.000000    104.626408     5.000000   \n",
              "75%    1778.250000    57.000000  119159.250000    148.649330     7.000000   \n",
              "max    2153.000000    69.000000  149875.000000    199.973527     9.000000   \n",
              "\n",
              "       OnlineReservation  DeliveryOrder  LoyaltyProgramMember     WaitTime  \\\n",
              "count        1500.000000    1500.000000           1500.000000  1500.000000   \n",
              "mean            0.296667       0.405333              0.480000    30.163550   \n",
              "std             0.456941       0.491120              0.499766    17.214184   \n",
              "min             0.000000       0.000000              0.000000     0.001380   \n",
              "25%             0.000000       0.000000              0.000000    15.235423   \n",
              "50%             0.000000       0.000000              0.000000    30.044055   \n",
              "75%             1.000000       1.000000              1.000000    45.285649   \n",
              "max             1.000000       1.000000              1.000000    59.970762   \n",
              "\n",
              "       ServiceRating   FoodRating  AmbianceRating  HighSatisfaction  \n",
              "count    1500.000000  1500.000000     1500.000000       1500.000000  \n",
              "mean        3.044000     2.997333        2.987333          0.134000  \n",
              "std         1.423405     1.418920        1.450716          0.340766  \n",
              "min         1.000000     1.000000        1.000000          0.000000  \n",
              "25%         2.000000     2.000000        2.000000          0.000000  \n",
              "50%         3.000000     3.000000        3.000000          0.000000  \n",
              "75%         4.000000     4.000000        4.000000          0.000000  \n",
              "max         5.000000     5.000000        5.000000          1.000000  "
            ],
            "text/html": [
              "\n",
              "  <div id=\"df-0cf80632-4925-41db-ac29-7c42784feab9\" class=\"colab-df-container\">\n",
              "    <div>\n",
              "<style scoped>\n",
              "    .dataframe tbody tr th:only-of-type {\n",
              "        vertical-align: middle;\n",
              "    }\n",
              "\n",
              "    .dataframe tbody tr th {\n",
              "        vertical-align: top;\n",
              "    }\n",
              "\n",
              "    .dataframe thead th {\n",
              "        text-align: right;\n",
              "    }\n",
              "</style>\n",
              "<table border=\"1\" class=\"dataframe\">\n",
              "  <thead>\n",
              "    <tr style=\"text-align: right;\">\n",
              "      <th></th>\n",
              "      <th>CustomerID</th>\n",
              "      <th>Age</th>\n",
              "      <th>Income</th>\n",
              "      <th>AverageSpend</th>\n",
              "      <th>GroupSize</th>\n",
              "      <th>OnlineReservation</th>\n",
              "      <th>DeliveryOrder</th>\n",
              "      <th>LoyaltyProgramMember</th>\n",
              "      <th>WaitTime</th>\n",
              "      <th>ServiceRating</th>\n",
              "      <th>FoodRating</th>\n",
              "      <th>AmbianceRating</th>\n",
              "      <th>HighSatisfaction</th>\n",
              "    </tr>\n",
              "  </thead>\n",
              "  <tbody>\n",
              "    <tr>\n",
              "      <th>count</th>\n",
              "      <td>1500.000000</td>\n",
              "      <td>1500.000000</td>\n",
              "      <td>1500.000000</td>\n",
              "      <td>1500.000000</td>\n",
              "      <td>1500.000000</td>\n",
              "      <td>1500.000000</td>\n",
              "      <td>1500.000000</td>\n",
              "      <td>1500.000000</td>\n",
              "      <td>1500.000000</td>\n",
              "      <td>1500.000000</td>\n",
              "      <td>1500.000000</td>\n",
              "      <td>1500.000000</td>\n",
              "      <td>1500.000000</td>\n",
              "    </tr>\n",
              "    <tr>\n",
              "      <th>mean</th>\n",
              "      <td>1403.500000</td>\n",
              "      <td>43.832000</td>\n",
              "      <td>85921.890000</td>\n",
              "      <td>105.659004</td>\n",
              "      <td>5.035333</td>\n",
              "      <td>0.296667</td>\n",
              "      <td>0.405333</td>\n",
              "      <td>0.480000</td>\n",
              "      <td>30.163550</td>\n",
              "      <td>3.044000</td>\n",
              "      <td>2.997333</td>\n",
              "      <td>2.987333</td>\n",
              "      <td>0.134000</td>\n",
              "    </tr>\n",
              "    <tr>\n",
              "      <th>std</th>\n",
              "      <td>433.157015</td>\n",
              "      <td>14.967157</td>\n",
              "      <td>38183.051749</td>\n",
              "      <td>52.381849</td>\n",
              "      <td>2.558864</td>\n",
              "      <td>0.456941</td>\n",
              "      <td>0.491120</td>\n",
              "      <td>0.499766</td>\n",
              "      <td>17.214184</td>\n",
              "      <td>1.423405</td>\n",
              "      <td>1.418920</td>\n",
              "      <td>1.450716</td>\n",
              "      <td>0.340766</td>\n",
              "    </tr>\n",
              "    <tr>\n",
              "      <th>min</th>\n",
              "      <td>654.000000</td>\n",
              "      <td>18.000000</td>\n",
              "      <td>20012.000000</td>\n",
              "      <td>10.306127</td>\n",
              "      <td>1.000000</td>\n",
              "      <td>0.000000</td>\n",
              "      <td>0.000000</td>\n",
              "      <td>0.000000</td>\n",
              "      <td>0.001380</td>\n",
              "      <td>1.000000</td>\n",
              "      <td>1.000000</td>\n",
              "      <td>1.000000</td>\n",
              "      <td>0.000000</td>\n",
              "    </tr>\n",
              "    <tr>\n",
              "      <th>25%</th>\n",
              "      <td>1028.750000</td>\n",
              "      <td>31.750000</td>\n",
              "      <td>52444.000000</td>\n",
              "      <td>62.287907</td>\n",
              "      <td>3.000000</td>\n",
              "      <td>0.000000</td>\n",
              "      <td>0.000000</td>\n",
              "      <td>0.000000</td>\n",
              "      <td>15.235423</td>\n",
              "      <td>2.000000</td>\n",
              "      <td>2.000000</td>\n",
              "      <td>2.000000</td>\n",
              "      <td>0.000000</td>\n",
              "    </tr>\n",
              "    <tr>\n",
              "      <th>50%</th>\n",
              "      <td>1403.500000</td>\n",
              "      <td>44.000000</td>\n",
              "      <td>85811.000000</td>\n",
              "      <td>104.626408</td>\n",
              "      <td>5.000000</td>\n",
              "      <td>0.000000</td>\n",
              "      <td>0.000000</td>\n",
              "      <td>0.000000</td>\n",
              "      <td>30.044055</td>\n",
              "      <td>3.000000</td>\n",
              "      <td>3.000000</td>\n",
              "      <td>3.000000</td>\n",
              "      <td>0.000000</td>\n",
              "    </tr>\n",
              "    <tr>\n",
              "      <th>75%</th>\n",
              "      <td>1778.250000</td>\n",
              "      <td>57.000000</td>\n",
              "      <td>119159.250000</td>\n",
              "      <td>148.649330</td>\n",
              "      <td>7.000000</td>\n",
              "      <td>1.000000</td>\n",
              "      <td>1.000000</td>\n",
              "      <td>1.000000</td>\n",
              "      <td>45.285649</td>\n",
              "      <td>4.000000</td>\n",
              "      <td>4.000000</td>\n",
              "      <td>4.000000</td>\n",
              "      <td>0.000000</td>\n",
              "    </tr>\n",
              "    <tr>\n",
              "      <th>max</th>\n",
              "      <td>2153.000000</td>\n",
              "      <td>69.000000</td>\n",
              "      <td>149875.000000</td>\n",
              "      <td>199.973527</td>\n",
              "      <td>9.000000</td>\n",
              "      <td>1.000000</td>\n",
              "      <td>1.000000</td>\n",
              "      <td>1.000000</td>\n",
              "      <td>59.970762</td>\n",
              "      <td>5.000000</td>\n",
              "      <td>5.000000</td>\n",
              "      <td>5.000000</td>\n",
              "      <td>1.000000</td>\n",
              "    </tr>\n",
              "  </tbody>\n",
              "</table>\n",
              "</div>\n",
              "    <div class=\"colab-df-buttons\">\n",
              "\n",
              "  <div class=\"colab-df-container\">\n",
              "    <button class=\"colab-df-convert\" onclick=\"convertToInteractive('df-0cf80632-4925-41db-ac29-7c42784feab9')\"\n",
              "            title=\"Convert this dataframe to an interactive table.\"\n",
              "            style=\"display:none;\">\n",
              "\n",
              "  <svg xmlns=\"http://www.w3.org/2000/svg\" height=\"24px\" viewBox=\"0 -960 960 960\">\n",
              "    <path d=\"M120-120v-720h720v720H120Zm60-500h600v-160H180v160Zm220 220h160v-160H400v160Zm0 220h160v-160H400v160ZM180-400h160v-160H180v160Zm440 0h160v-160H620v160ZM180-180h160v-160H180v160Zm440 0h160v-160H620v160Z\"/>\n",
              "  </svg>\n",
              "    </button>\n",
              "\n",
              "  <style>\n",
              "    .colab-df-container {\n",
              "      display:flex;\n",
              "      gap: 12px;\n",
              "    }\n",
              "\n",
              "    .colab-df-convert {\n",
              "      background-color: #E8F0FE;\n",
              "      border: none;\n",
              "      border-radius: 50%;\n",
              "      cursor: pointer;\n",
              "      display: none;\n",
              "      fill: #1967D2;\n",
              "      height: 32px;\n",
              "      padding: 0 0 0 0;\n",
              "      width: 32px;\n",
              "    }\n",
              "\n",
              "    .colab-df-convert:hover {\n",
              "      background-color: #E2EBFA;\n",
              "      box-shadow: 0px 1px 2px rgba(60, 64, 67, 0.3), 0px 1px 3px 1px rgba(60, 64, 67, 0.15);\n",
              "      fill: #174EA6;\n",
              "    }\n",
              "\n",
              "    .colab-df-buttons div {\n",
              "      margin-bottom: 4px;\n",
              "    }\n",
              "\n",
              "    [theme=dark] .colab-df-convert {\n",
              "      background-color: #3B4455;\n",
              "      fill: #D2E3FC;\n",
              "    }\n",
              "\n",
              "    [theme=dark] .colab-df-convert:hover {\n",
              "      background-color: #434B5C;\n",
              "      box-shadow: 0px 1px 3px 1px rgba(0, 0, 0, 0.15);\n",
              "      filter: drop-shadow(0px 1px 2px rgba(0, 0, 0, 0.3));\n",
              "      fill: #FFFFFF;\n",
              "    }\n",
              "  </style>\n",
              "\n",
              "    <script>\n",
              "      const buttonEl =\n",
              "        document.querySelector('#df-0cf80632-4925-41db-ac29-7c42784feab9 button.colab-df-convert');\n",
              "      buttonEl.style.display =\n",
              "        google.colab.kernel.accessAllowed ? 'block' : 'none';\n",
              "\n",
              "      async function convertToInteractive(key) {\n",
              "        const element = document.querySelector('#df-0cf80632-4925-41db-ac29-7c42784feab9');\n",
              "        const dataTable =\n",
              "          await google.colab.kernel.invokeFunction('convertToInteractive',\n",
              "                                                    [key], {});\n",
              "        if (!dataTable) return;\n",
              "\n",
              "        const docLinkHtml = 'Like what you see? Visit the ' +\n",
              "          '<a target=\"_blank\" href=https://colab.research.google.com/notebooks/data_table.ipynb>data table notebook</a>'\n",
              "          + ' to learn more about interactive tables.';\n",
              "        element.innerHTML = '';\n",
              "        dataTable['output_type'] = 'display_data';\n",
              "        await google.colab.output.renderOutput(dataTable, element);\n",
              "        const docLink = document.createElement('div');\n",
              "        docLink.innerHTML = docLinkHtml;\n",
              "        element.appendChild(docLink);\n",
              "      }\n",
              "    </script>\n",
              "  </div>\n",
              "\n",
              "\n",
              "<div id=\"df-31e339e7-2d27-41d6-b3b7-8d3b239bb199\">\n",
              "  <button class=\"colab-df-quickchart\" onclick=\"quickchart('df-31e339e7-2d27-41d6-b3b7-8d3b239bb199')\"\n",
              "            title=\"Suggest charts\"\n",
              "            style=\"display:none;\">\n",
              "\n",
              "<svg xmlns=\"http://www.w3.org/2000/svg\" height=\"24px\"viewBox=\"0 0 24 24\"\n",
              "     width=\"24px\">\n",
              "    <g>\n",
              "        <path d=\"M19 3H5c-1.1 0-2 .9-2 2v14c0 1.1.9 2 2 2h14c1.1 0 2-.9 2-2V5c0-1.1-.9-2-2-2zM9 17H7v-7h2v7zm4 0h-2V7h2v10zm4 0h-2v-4h2v4z\"/>\n",
              "    </g>\n",
              "</svg>\n",
              "  </button>\n",
              "\n",
              "<style>\n",
              "  .colab-df-quickchart {\n",
              "      --bg-color: #E8F0FE;\n",
              "      --fill-color: #1967D2;\n",
              "      --hover-bg-color: #E2EBFA;\n",
              "      --hover-fill-color: #174EA6;\n",
              "      --disabled-fill-color: #AAA;\n",
              "      --disabled-bg-color: #DDD;\n",
              "  }\n",
              "\n",
              "  [theme=dark] .colab-df-quickchart {\n",
              "      --bg-color: #3B4455;\n",
              "      --fill-color: #D2E3FC;\n",
              "      --hover-bg-color: #434B5C;\n",
              "      --hover-fill-color: #FFFFFF;\n",
              "      --disabled-bg-color: #3B4455;\n",
              "      --disabled-fill-color: #666;\n",
              "  }\n",
              "\n",
              "  .colab-df-quickchart {\n",
              "    background-color: var(--bg-color);\n",
              "    border: none;\n",
              "    border-radius: 50%;\n",
              "    cursor: pointer;\n",
              "    display: none;\n",
              "    fill: var(--fill-color);\n",
              "    height: 32px;\n",
              "    padding: 0;\n",
              "    width: 32px;\n",
              "  }\n",
              "\n",
              "  .colab-df-quickchart:hover {\n",
              "    background-color: var(--hover-bg-color);\n",
              "    box-shadow: 0 1px 2px rgba(60, 64, 67, 0.3), 0 1px 3px 1px rgba(60, 64, 67, 0.15);\n",
              "    fill: var(--button-hover-fill-color);\n",
              "  }\n",
              "\n",
              "  .colab-df-quickchart-complete:disabled,\n",
              "  .colab-df-quickchart-complete:disabled:hover {\n",
              "    background-color: var(--disabled-bg-color);\n",
              "    fill: var(--disabled-fill-color);\n",
              "    box-shadow: none;\n",
              "  }\n",
              "\n",
              "  .colab-df-spinner {\n",
              "    border: 2px solid var(--fill-color);\n",
              "    border-color: transparent;\n",
              "    border-bottom-color: var(--fill-color);\n",
              "    animation:\n",
              "      spin 1s steps(1) infinite;\n",
              "  }\n",
              "\n",
              "  @keyframes spin {\n",
              "    0% {\n",
              "      border-color: transparent;\n",
              "      border-bottom-color: var(--fill-color);\n",
              "      border-left-color: var(--fill-color);\n",
              "    }\n",
              "    20% {\n",
              "      border-color: transparent;\n",
              "      border-left-color: var(--fill-color);\n",
              "      border-top-color: var(--fill-color);\n",
              "    }\n",
              "    30% {\n",
              "      border-color: transparent;\n",
              "      border-left-color: var(--fill-color);\n",
              "      border-top-color: var(--fill-color);\n",
              "      border-right-color: var(--fill-color);\n",
              "    }\n",
              "    40% {\n",
              "      border-color: transparent;\n",
              "      border-right-color: var(--fill-color);\n",
              "      border-top-color: var(--fill-color);\n",
              "    }\n",
              "    60% {\n",
              "      border-color: transparent;\n",
              "      border-right-color: var(--fill-color);\n",
              "    }\n",
              "    80% {\n",
              "      border-color: transparent;\n",
              "      border-right-color: var(--fill-color);\n",
              "      border-bottom-color: var(--fill-color);\n",
              "    }\n",
              "    90% {\n",
              "      border-color: transparent;\n",
              "      border-bottom-color: var(--fill-color);\n",
              "    }\n",
              "  }\n",
              "</style>\n",
              "\n",
              "  <script>\n",
              "    async function quickchart(key) {\n",
              "      const quickchartButtonEl =\n",
              "        document.querySelector('#' + key + ' button');\n",
              "      quickchartButtonEl.disabled = true;  // To prevent multiple clicks.\n",
              "      quickchartButtonEl.classList.add('colab-df-spinner');\n",
              "      try {\n",
              "        const charts = await google.colab.kernel.invokeFunction(\n",
              "            'suggestCharts', [key], {});\n",
              "      } catch (error) {\n",
              "        console.error('Error during call to suggestCharts:', error);\n",
              "      }\n",
              "      quickchartButtonEl.classList.remove('colab-df-spinner');\n",
              "      quickchartButtonEl.classList.add('colab-df-quickchart-complete');\n",
              "    }\n",
              "    (() => {\n",
              "      let quickchartButtonEl =\n",
              "        document.querySelector('#df-31e339e7-2d27-41d6-b3b7-8d3b239bb199 button');\n",
              "      quickchartButtonEl.style.display =\n",
              "        google.colab.kernel.accessAllowed ? 'block' : 'none';\n",
              "    })();\n",
              "  </script>\n",
              "</div>\n",
              "\n",
              "    </div>\n",
              "  </div>\n"
            ],
            "application/vnd.google.colaboratory.intrinsic+json": {
              "type": "dataframe",
              "summary": "{\n  \"name\": \"data\",\n  \"rows\": 8,\n  \"fields\": [\n    {\n      \"column\": \"CustomerID\",\n      \"properties\": {\n        \"dtype\": \"number\",\n        \"std\": 568.18045266399,\n        \"min\": 433.15701541127095,\n        \"max\": 2153.0,\n        \"num_unique_values\": 7,\n        \"samples\": [\n          1500.0,\n          1403.5,\n          1778.25\n        ],\n        \"semantic_type\": \"\",\n        \"description\": \"\"\n      }\n    },\n    {\n      \"column\": \"Age\",\n      \"properties\": {\n        \"dtype\": \"number\",\n        \"std\": 516.5847578857441,\n        \"min\": 14.967156928566947,\n        \"max\": 1500.0,\n        \"num_unique_values\": 8,\n        \"samples\": [\n          43.832,\n          44.0,\n          1500.0\n        ],\n        \"semantic_type\": \"\",\n        \"description\": \"\"\n      }\n    },\n    {\n      \"column\": \"Income\",\n      \"properties\": {\n        \"dtype\": \"number\",\n        \"std\": 50434.44542784762,\n        \"min\": 1500.0,\n        \"max\": 149875.0,\n        \"num_unique_values\": 8,\n        \"samples\": [\n          85921.89,\n          85811.0,\n          1500.0\n        ],\n        \"semantic_type\": \"\",\n        \"description\": \"\"\n      }\n    },\n    {\n      \"column\": \"AverageSpend\",\n      \"properties\": {\n        \"dtype\": \"number\",\n        \"std\": 499.25053183345926,\n        \"min\": 10.306126713600484,\n        \"max\": 1500.0,\n        \"num_unique_values\": 8,\n        \"samples\": [\n          105.65900359407259,\n          104.62640814349791,\n          1500.0\n        ],\n        \"semantic_type\": \"\",\n        \"description\": \"\"\n      }\n    },\n    {\n      \"column\": \"GroupSize\",\n      \"properties\": {\n        \"dtype\": \"number\",\n        \"std\": 528.6899281336106,\n        \"min\": 1.0,\n        \"max\": 1500.0,\n        \"num_unique_values\": 8,\n        \"samples\": [\n          5.035333333333333,\n          5.0,\n          1500.0\n        ],\n        \"semantic_type\": \"\",\n        \"description\": \"\"\n      }\n    },\n    {\n      \"column\": \"OnlineReservation\",\n      \"properties\": {\n        \"dtype\": \"number\",\n        \"std\": 530.1911712190296,\n        \"min\": 0.0,\n        \"max\": 1500.0,\n        \"num_unique_values\": 5,\n        \"samples\": [\n          0.2966666666666667,\n          1.0,\n          0.45694064391004535\n        ],\n        \"semantic_type\": \"\",\n        \"description\": \"\"\n      }\n    },\n    {\n      \"column\": \"DeliveryOrder\",\n      \"properties\": {\n        \"dtype\": \"number\",\n        \"std\": 530.1839555084291,\n        \"min\": 0.0,\n        \"max\": 1500.0,\n        \"num_unique_values\": 5,\n        \"samples\": [\n          0.4053333333333333,\n          1.0,\n          0.4911201701925258\n        ],\n        \"semantic_type\": \"\",\n        \"description\": \"\"\n      }\n    },\n    {\n      \"column\": \"LoyaltyProgramMember\",\n      \"properties\": {\n        \"dtype\": \"number\",\n        \"std\": 530.1797482080043,\n        \"min\": 0.0,\n        \"max\": 1500.0,\n        \"num_unique_values\": 5,\n        \"samples\": [\n          0.48,\n          1.0,\n          0.49976645646475537\n        ],\n        \"semantic_type\": \"\",\n        \"description\": \"\"\n      }\n    },\n    {\n      \"column\": \"WaitTime\",\n      \"properties\": {\n        \"dtype\": \"number\",\n        \"std\": 520.6621874347691,\n        \"min\": 0.001380296669815,\n        \"max\": 1500.0,\n        \"num_unique_values\": 8,\n        \"samples\": [\n          30.16355008090592,\n          30.044054798202183,\n          1500.0\n        ],\n        \"semantic_type\": \"\",\n        \"description\": \"\"\n      }\n    },\n    {\n      \"column\": \"ServiceRating\",\n      \"properties\": {\n        \"dtype\": \"number\",\n        \"std\": 529.3484732216227,\n        \"min\": 1.0,\n        \"max\": 1500.0,\n        \"num_unique_values\": 8,\n        \"samples\": [\n          3.044,\n          3.0,\n          1500.0\n        ],\n        \"semantic_type\": \"\",\n        \"description\": \"\"\n      }\n    },\n    {\n      \"column\": \"FoodRating\",\n      \"properties\": {\n        \"dtype\": \"number\",\n        \"std\": 529.3510553130332,\n        \"min\": 1.0,\n        \"max\": 1500.0,\n        \"num_unique_values\": 8,\n        \"samples\": [\n          2.997333333333333,\n          3.0,\n          1500.0\n        ],\n        \"semantic_type\": \"\",\n        \"description\": \"\"\n      }\n    },\n    {\n      \"column\": \"AmbianceRating\",\n      \"properties\": {\n        \"dtype\": \"number\",\n        \"std\": 529.3499424015341,\n        \"min\": 1.0,\n        \"max\": 1500.0,\n        \"num_unique_values\": 8,\n        \"samples\": [\n          2.9873333333333334,\n          3.0,\n          1500.0\n        ],\n        \"semantic_type\": \"\",\n        \"description\": \"\"\n      }\n    },\n    {\n      \"column\": \"HighSatisfaction\",\n      \"properties\": {\n        \"dtype\": \"number\",\n        \"std\": 530.2557098755648,\n        \"min\": 0.0,\n        \"max\": 1500.0,\n        \"num_unique_values\": 5,\n        \"samples\": [\n          0.134,\n          1.0,\n          0.3407659229972741\n        ],\n        \"semantic_type\": \"\",\n        \"description\": \"\"\n      }\n    }\n  ]\n}"
            }
          },
          "metadata": {},
          "execution_count": 48
        }
      ]
    },
    {
      "cell_type": "code",
      "source": [
        "missing_values = data.isnull().sum()\n",
        "print(missing_values)"
      ],
      "metadata": {
        "colab": {
          "base_uri": "https://localhost:8080/"
        },
        "id": "c7_3eoG001qG",
        "outputId": "4c0ecea2-4934-4e01-ba77-1692f8df8bf3"
      },
      "execution_count": 49,
      "outputs": [
        {
          "output_type": "stream",
          "name": "stdout",
          "text": [
            "CustomerID              0\n",
            "Age                     0\n",
            "Gender                  0\n",
            "Income                  0\n",
            "VisitFrequency          0\n",
            "AverageSpend            0\n",
            "PreferredCuisine        0\n",
            "TimeOfVisit             0\n",
            "GroupSize               0\n",
            "DiningOccasion          0\n",
            "MealType                0\n",
            "OnlineReservation       0\n",
            "DeliveryOrder           0\n",
            "LoyaltyProgramMember    0\n",
            "WaitTime                0\n",
            "ServiceRating           0\n",
            "FoodRating              0\n",
            "AmbianceRating          0\n",
            "HighSatisfaction        0\n",
            "dtype: int64\n"
          ]
        }
      ]
    },
    {
      "cell_type": "code",
      "source": [
        "#임의로 결측값을 추가하는 부분 꼭 실행을 하지 않아도 됨\n",
        "import numpy as np\n",
        "\n",
        "def add_missing_values(df, col_name,missing_frac):\n",
        "    \"\"\"\n",
        "    특정 열에 지정된 비율의 결측값을 추가합니다.\n",
        "\n",
        "    :param df: 데이터프레임\n",
        "    :param col_name: 결측값을 추가할 열 이름\n",
        "    :param missing_frac: 결측값 비율 (0.0 ~ 1.0)\n",
        "    \"\"\"\n",
        "    np.random.seed(42)  # 재현성을 위해 랜덤 시드 설정\n",
        "    n_rows = df.shape[0] # 데이터프레임의 행 수\n",
        "    n_missing = int(n_rows * missing_frac) # 결측값을 추가할 행의 수를 계산\n",
        "\n",
        "    missing_indices = np.random.choice(n_rows, n_missing, replace=False) # 결측값을 추가할 행의 인덱스를 무작위로 선택\n",
        "    df.loc[missing_indices, col_name] = np.nan # 선택된 인덱스의 열 값을 NaN으로 설정"
      ],
      "metadata": {
        "id": "0lx3yClL1D1P"
      },
      "execution_count": 44,
      "outputs": []
    },
    {
      "cell_type": "code",
      "source": [
        "# 결측값 추가\n",
        "add_missing_values(data, 'Age', 0.1)  # Age 열에 10% 결측값 추가\n",
        "add_missing_values(data, 'Gender', 0.1)  # Gender 열에 10% 결측값 추가"
      ],
      "metadata": {
        "id": "fYD_YblJ1iZ0"
      },
      "execution_count": 15,
      "outputs": []
    },
    {
      "cell_type": "code",
      "source": [
        "# 결측값이 잘 추가되었는지 확인\n",
        "print(\"Data with missing values:\\n\", data.tail(10))\n",
        "print(\"Missing values count:\\n\", data.isnull().sum())"
      ],
      "metadata": {
        "colab": {
          "base_uri": "https://localhost:8080/"
        },
        "id": "LrdWrvX81mEr",
        "outputId": "efbc6b2e-1db9-49f8-b49a-09f2fde8f6ce"
      },
      "execution_count": 16,
      "outputs": [
        {
          "output_type": "stream",
          "name": "stdout",
          "text": [
            "Data with missing values:\n",
            "       CustomerID   Age  Gender  Income VisitFrequency  AverageSpend  \\\n",
            "1490        2144   NaN     NaN  106717         Rarely    105.323720   \n",
            "1491        2145   NaN     NaN   90569         Weekly    101.312053   \n",
            "1492        2146  20.0    Male   41041         Rarely     59.403047   \n",
            "1493        2147  62.0    Male  135684         Weekly    128.943101   \n",
            "1494        2148  25.0  Female  142332         Weekly    128.626784   \n",
            "1495        2149  39.0    Male  114857        Monthly    163.015254   \n",
            "1496        2150  37.0  Female  133506         Weekly    190.991911   \n",
            "1497        2151  46.0    Male  119159        Monthly    150.088604   \n",
            "1498        2152  24.0    Male   27970         Weekly    196.363626   \n",
            "1499        2153  51.0    Male  148333         Weekly    171.119498   \n",
            "\n",
            "     PreferredCuisine TimeOfVisit  GroupSize DiningOccasion  MealType  \\\n",
            "1490           Indian   Breakfast          5         Casual  Takeaway   \n",
            "1491           Indian       Lunch          9         Casual  Takeaway   \n",
            "1492          Italian      Dinner          4       Business   Dine-in   \n",
            "1493          Italian       Lunch          6       Business  Takeaway   \n",
            "1494         American      Dinner          4       Business  Takeaway   \n",
            "1495         American       Lunch          2       Business   Dine-in   \n",
            "1496          Italian       Lunch          4         Casual  Takeaway   \n",
            "1497         American       Lunch          4         Casual   Dine-in   \n",
            "1498          Italian      Dinner          6         Casual   Dine-in   \n",
            "1499          Chinese   Breakfast          4         Casual   Dine-in   \n",
            "\n",
            "      OnlineReservation  DeliveryOrder  LoyaltyProgramMember   WaitTime  \\\n",
            "1490                  1              1                     0  17.525024   \n",
            "1491                  0              1                     0  55.700437   \n",
            "1492                  0              0                     1  50.064920   \n",
            "1493                  1              1                     1  24.097052   \n",
            "1494                  1              1                     1  18.134661   \n",
            "1495                  0              1                     1   7.206275   \n",
            "1496                  0              0                     0  37.863952   \n",
            "1497                  0              1                     0   3.925785   \n",
            "1498                  1              1                     0  24.228038   \n",
            "1499                  1              1                     1  39.402163   \n",
            "\n",
            "      ServiceRating  FoodRating  AmbianceRating  HighSatisfaction  \n",
            "1490              3           2               3                 1  \n",
            "1491              3           5               1                 0  \n",
            "1492              2           4               2                 0  \n",
            "1493              3           1               5                 1  \n",
            "1494              1           1               3                 1  \n",
            "1495              1           2               1                 0  \n",
            "1496              5           2               2                 0  \n",
            "1497              3           3               3                 1  \n",
            "1498              2           2               4                 1  \n",
            "1499              4           5               4                 1  \n",
            "Missing values count:\n",
            " CustomerID                0\n",
            "Age                     150\n",
            "Gender                  150\n",
            "Income                    0\n",
            "VisitFrequency            0\n",
            "AverageSpend              0\n",
            "PreferredCuisine          0\n",
            "TimeOfVisit               0\n",
            "GroupSize                 0\n",
            "DiningOccasion            0\n",
            "MealType                  0\n",
            "OnlineReservation         0\n",
            "DeliveryOrder             0\n",
            "LoyaltyProgramMember      0\n",
            "WaitTime                  0\n",
            "ServiceRating             0\n",
            "FoodRating                0\n",
            "AmbianceRating            0\n",
            "HighSatisfaction          0\n",
            "dtype: int64\n"
          ]
        }
      ]
    },
    {
      "cell_type": "code",
      "source": [
        "data['Age'].mean()"
      ],
      "metadata": {
        "colab": {
          "base_uri": "https://localhost:8080/"
        },
        "id": "aXLpUbAp1rmh",
        "outputId": "7914a4ab-0e4a-4511-9ea3-387d7de667f8"
      },
      "execution_count": 50,
      "outputs": [
        {
          "output_type": "execute_result",
          "data": {
            "text/plain": [
              "43.832"
            ]
          },
          "metadata": {},
          "execution_count": 50
        }
      ]
    },
    {
      "cell_type": "code",
      "source": [
        "#숫자 데이터 전처리 - 결측값 처리 (평균값으로 대체)\n",
        "data['Age'] = data['Age'].fillna(data['Age'].mean())"
      ],
      "metadata": {
        "id": "EoRmevwu1wxm"
      },
      "execution_count": 51,
      "outputs": []
    },
    {
      "cell_type": "code",
      "source": [
        "print(\"Missing values count:\\n\", data.isnull().sum())"
      ],
      "metadata": {
        "colab": {
          "base_uri": "https://localhost:8080/"
        },
        "id": "iwXyIsaS143B",
        "outputId": "9de02ed1-af0b-49f8-b95d-d418d9d544aa"
      },
      "execution_count": 52,
      "outputs": [
        {
          "output_type": "stream",
          "name": "stdout",
          "text": [
            "Missing values count:\n",
            " CustomerID              0\n",
            "Age                     0\n",
            "Gender                  0\n",
            "Income                  0\n",
            "VisitFrequency          0\n",
            "AverageSpend            0\n",
            "PreferredCuisine        0\n",
            "TimeOfVisit             0\n",
            "GroupSize               0\n",
            "DiningOccasion          0\n",
            "MealType                0\n",
            "OnlineReservation       0\n",
            "DeliveryOrder           0\n",
            "LoyaltyProgramMember    0\n",
            "WaitTime                0\n",
            "ServiceRating           0\n",
            "FoodRating              0\n",
            "AmbianceRating          0\n",
            "HighSatisfaction        0\n",
            "dtype: int64\n"
          ]
        }
      ]
    },
    {
      "cell_type": "code",
      "source": [
        "data['Gender'].value_counts()"
      ],
      "metadata": {
        "colab": {
          "base_uri": "https://localhost:8080/"
        },
        "id": "v6a63vNr2B9-",
        "outputId": "a29f48ea-4ffe-46d1-936b-2a65684a85c7"
      },
      "execution_count": 55,
      "outputs": [
        {
          "output_type": "execute_result",
          "data": {
            "text/plain": [
              "Gender\n",
              "Female    759\n",
              "Male      741\n",
              "Name: count, dtype: int64"
            ]
          },
          "metadata": {},
          "execution_count": 55
        }
      ]
    },
    {
      "cell_type": "code",
      "source": [
        "data['Gender'].mode()"
      ],
      "metadata": {
        "colab": {
          "base_uri": "https://localhost:8080/"
        },
        "id": "zfO3MRyo2GHo",
        "outputId": "02446311-336c-4c64-8144-283ccd5e1171"
      },
      "execution_count": 54,
      "outputs": [
        {
          "output_type": "execute_result",
          "data": {
            "text/plain": [
              "0    Female\n",
              "Name: Gender, dtype: object"
            ]
          },
          "metadata": {},
          "execution_count": 54
        }
      ]
    },
    {
      "cell_type": "code",
      "source": [
        "#범주형 데이터 전처리 - 결측값 처리(최빈값으로 대체)\n",
        "data['Gender'] = data['Gender'].fillna(data['Gender'].mode()[0])"
      ],
      "metadata": {
        "id": "m-9Np7IA2KWP"
      },
      "execution_count": 56,
      "outputs": []
    },
    {
      "cell_type": "code",
      "source": [
        "print(\"Missing values count:\\n\", data.isnull().sum())"
      ],
      "metadata": {
        "colab": {
          "base_uri": "https://localhost:8080/"
        },
        "id": "50TaicXA2Rjk",
        "outputId": "5cc7338d-fcbe-4d6b-a580-639bf22c7bf6"
      },
      "execution_count": 57,
      "outputs": [
        {
          "output_type": "stream",
          "name": "stdout",
          "text": [
            "Missing values count:\n",
            " CustomerID              0\n",
            "Age                     0\n",
            "Gender                  0\n",
            "Income                  0\n",
            "VisitFrequency          0\n",
            "AverageSpend            0\n",
            "PreferredCuisine        0\n",
            "TimeOfVisit             0\n",
            "GroupSize               0\n",
            "DiningOccasion          0\n",
            "MealType                0\n",
            "OnlineReservation       0\n",
            "DeliveryOrder           0\n",
            "LoyaltyProgramMember    0\n",
            "WaitTime                0\n",
            "ServiceRating           0\n",
            "FoodRating              0\n",
            "AmbianceRating          0\n",
            "HighSatisfaction        0\n",
            "dtype: int64\n"
          ]
        }
      ]
    },
    {
      "cell_type": "code",
      "source": [
        "data['Gender'].head()"
      ],
      "metadata": {
        "colab": {
          "base_uri": "https://localhost:8080/"
        },
        "id": "yj-lux2S2Vy3",
        "outputId": "767d4ae3-1f6e-4580-c4ec-aa142fee271f"
      },
      "execution_count": 58,
      "outputs": [
        {
          "output_type": "execute_result",
          "data": {
            "text/plain": [
              "0      Male\n",
              "1      Male\n",
              "2    Female\n",
              "3      Male\n",
              "4    Female\n",
              "Name: Gender, dtype: object"
            ]
          },
          "metadata": {},
          "execution_count": 58
        }
      ]
    },
    {
      "cell_type": "code",
      "source": [
        "#범주형 데이터 인코딩 (레이블 인코딩)\n",
        "from sklearn.preprocessing import LabelEncoder\n",
        "\n",
        "label_encoder = LabelEncoder() #객체 생성\n",
        "data['Gender'] = label_encoder.fit_transform(data['Gender'])"
      ],
      "metadata": {
        "id": "blfQvRsN2Y_t"
      },
      "execution_count": 59,
      "outputs": []
    },
    {
      "cell_type": "code",
      "source": [
        "data['Gender'].head()"
      ],
      "metadata": {
        "colab": {
          "base_uri": "https://localhost:8080/"
        },
        "id": "WpMnyTTc2qqq",
        "outputId": "09a2b95a-9ea7-46e1-aedb-d7e035a67932"
      },
      "execution_count": 60,
      "outputs": [
        {
          "output_type": "execute_result",
          "data": {
            "text/plain": [
              "0    1\n",
              "1    1\n",
              "2    0\n",
              "3    1\n",
              "4    0\n",
              "Name: Gender, dtype: int64"
            ]
          },
          "metadata": {},
          "execution_count": 60
        }
      ]
    },
    {
      "cell_type": "code",
      "source": [
        "import pandas as pd\n",
        "import numpy as np\n",
        "from datetime import datetime, timedelta\n",
        "\n",
        "#현재시간\n",
        "current_time = datetime.now()\n",
        "\n",
        "#예시 데이터 생성\n",
        "time_data = pd.DataFrame({\n",
        "    'PurchaseTime': [current_time - timedelta(days=i) for i in range(5)],\n",
        "    'DeliveryTime': [current_time - timedelta(days=i) for i in range(5)]\n",
        "})\n",
        "\n",
        "print(\"Original Data:\")\n",
        "print(time_data)"
      ],
      "metadata": {
        "colab": {
          "base_uri": "https://localhost:8080/"
        },
        "id": "53Gv6WLx2vM5",
        "outputId": "6915223f-d4a3-48cd-aac4-b9e3fc791d6a"
      },
      "execution_count": 61,
      "outputs": [
        {
          "output_type": "stream",
          "name": "stdout",
          "text": [
            "Original Data:\n",
            "                PurchaseTime               DeliveryTime\n",
            "0 2024-07-03 05:08:08.097021 2024-07-03 05:08:08.097021\n",
            "1 2024-07-02 05:08:08.097021 2024-07-02 05:08:08.097021\n",
            "2 2024-07-01 05:08:08.097021 2024-07-01 05:08:08.097021\n",
            "3 2024-06-30 05:08:08.097021 2024-06-30 05:08:08.097021\n",
            "4 2024-06-29 05:08:08.097021 2024-06-29 05:08:08.097021\n"
          ]
        }
      ]
    },
    {
      "cell_type": "code",
      "source": [
        "# 시간 데이터를 datetime 형식으로 변환 (이미 datetime)\n",
        "time_data['PurchaseTime'] = pd.to_datetime(time_data['PurchaseTime'])\n",
        "time_data['DeliveryTime'] = pd.to_datetime(time_data['DeliveryTime'])\n",
        "\n",
        "# 시간 컴포넌트 추출\n",
        "time_data['PurchaseYear'] = time_data['PurchaseTime'].dt.year\n",
        "time_data['PurchaseMonth'] = time_data['PurchaseTime'].dt.month\n",
        "time_data['PurchaseDay'] = time_data['PurchaseTime'].dt.day\n",
        "time_data['PurchaseHour'] = time_data['PurchaseTime'].dt.hour\n",
        "time_data['PurchaseMinute'] = time_data['PurchaseTime'].dt.minute\n",
        "time_data['PurchaseSecond'] = time_data['PurchaseTime'].dt.second\n",
        "\n",
        "# 시간 차이 계산\n",
        "time_data['DeliveryDays'] = (time_data['DeliveryTime'] - time_data['PurchaseTime']).dt.days\n",
        "\n",
        "print(\"\\nData after extracting components and calculating differences:\\n\", time_data)"
      ],
      "metadata": {
        "colab": {
          "base_uri": "https://localhost:8080/"
        },
        "id": "pPZ8L9Ks3ae-",
        "outputId": "8005e70d-c222-49de-c29c-eac28bf0ab4d"
      },
      "execution_count": 62,
      "outputs": [
        {
          "output_type": "stream",
          "name": "stdout",
          "text": [
            "\n",
            "Data after extracting components and calculating differences:\n",
            "                 PurchaseTime               DeliveryTime  PurchaseYear  \\\n",
            "0 2024-07-03 05:08:08.097021 2024-07-03 05:08:08.097021          2024   \n",
            "1 2024-07-02 05:08:08.097021 2024-07-02 05:08:08.097021          2024   \n",
            "2 2024-07-01 05:08:08.097021 2024-07-01 05:08:08.097021          2024   \n",
            "3 2024-06-30 05:08:08.097021 2024-06-30 05:08:08.097021          2024   \n",
            "4 2024-06-29 05:08:08.097021 2024-06-29 05:08:08.097021          2024   \n",
            "\n",
            "   PurchaseMonth  PurchaseDay  PurchaseHour  PurchaseMinute  PurchaseSecond  \\\n",
            "0              7            3             5               8               8   \n",
            "1              7            2             5               8               8   \n",
            "2              7            1             5               8               8   \n",
            "3              6           30             5               8               8   \n",
            "4              6           29             5               8               8   \n",
            "\n",
            "   DeliveryDays  \n",
            "0             0  \n",
            "1             0  \n",
            "2             0  \n",
            "3             0  \n",
            "4             0  \n"
          ]
        }
      ]
    },
    {
      "cell_type": "code",
      "source": [
        "# 데이터 스케일링 (값이 이상하게 나옴..)\n",
        "from sklearn.preprocessing import StandardScaler # standardize\n",
        "print(\"Data before scaling:\\n\", data[['Age', 'Income']].head())\n",
        "\n",
        "scaler = StandardScaler() # 객체 생성\n",
        "data[['Age', 'Income']] = scaler.fit_transform(data[['Age', 'Income']]) # 스케일링\n",
        "\n",
        "print(\"Data after scaling:\\n\", data[['Age', 'Income']].head())"
      ],
      "metadata": {
        "colab": {
          "base_uri": "https://localhost:8080/"
        },
        "id": "f-_zZRap3gvX",
        "outputId": "9406fa4d-593b-4311-8275-518b4b8ed482"
      },
      "execution_count": 33,
      "outputs": [
        {
          "output_type": "stream",
          "name": "stdout",
          "text": [
            "Data before scaling:\n",
            "         Age    Income\n",
            "0 -0.621610 -0.066593\n",
            "1 -1.740322 -1.108162\n",
            "2 -0.202093 -0.057241\n",
            "3 -0.062254  0.284150\n",
            "4  0.776780 -0.471175\n",
            "Data after scaling:\n",
            "         Age    Income\n",
            "0 -0.621610 -0.066593\n",
            "1 -1.740322 -1.108162\n",
            "2 -0.202093 -0.057241\n",
            "3 -0.062254  0.284150\n",
            "4  0.776780 -0.471175\n"
          ]
        }
      ]
    },
    {
      "cell_type": "code",
      "source": [
        "print(\"Original table:\\n\", data.head())\n",
        "# 데이터 피벗\n",
        "pivot_table = data.pivot_table(values='Income', index='PreferredCuisine', columns='LoyaltyProgramMember', aggfunc='mean') # aggfunc: 집계함수\n",
        "print(\"Pivot table:\\n\", pivot_table.head())"
      ],
      "metadata": {
        "colab": {
          "base_uri": "https://localhost:8080/"
        },
        "id": "owmBpUyK4MnM",
        "outputId": "96f70ca3-a42e-4cd0-96c9-78d99ced9216"
      },
      "execution_count": 63,
      "outputs": [
        {
          "output_type": "stream",
          "name": "stdout",
          "text": [
            "Original table:\n",
            "    CustomerID  Age  Gender  Income VisitFrequency  AverageSpend  \\\n",
            "0         654   35       1   83380         Weekly     27.829142   \n",
            "1         655   19       1   43623         Rarely    115.408622   \n",
            "2         656   41       0   83737         Weekly    106.693771   \n",
            "3         657   43       1   96768         Rarely     43.508508   \n",
            "4         658   55       0   67937        Monthly    148.084627   \n",
            "\n",
            "  PreferredCuisine TimeOfVisit  GroupSize DiningOccasion  MealType  \\\n",
            "0          Chinese   Breakfast          3       Business  Takeaway   \n",
            "1         American      Dinner          1         Casual   Dine-in   \n",
            "2         American      Dinner          6    Celebration   Dine-in   \n",
            "3           Indian       Lunch          1    Celebration   Dine-in   \n",
            "4          Chinese   Breakfast          1       Business  Takeaway   \n",
            "\n",
            "   OnlineReservation  DeliveryOrder  LoyaltyProgramMember   WaitTime  \\\n",
            "0                  0              1                     1  43.523929   \n",
            "1                  0              0                     0  57.524294   \n",
            "2                  0              1                     0  48.682623   \n",
            "3                  0              0                     0   7.552993   \n",
            "4                  0              0                     1  37.789041   \n",
            "\n",
            "   ServiceRating  FoodRating  AmbianceRating  HighSatisfaction  \n",
            "0              2           5               4                 0  \n",
            "1              5           5               3                 0  \n",
            "2              3           4               5                 0  \n",
            "3              4           5               1                 0  \n",
            "4              2           3               5                 0  \n",
            "Pivot table:\n",
            " LoyaltyProgramMember             0             1\n",
            "PreferredCuisine                                \n",
            "American              83069.052239  89507.875000\n",
            "Chinese               88433.258278  84942.075472\n",
            "Indian                93427.383648  80834.408759\n",
            "Italian               85210.757062  82274.101351\n",
            "Mexican               82061.955975  89166.492857\n"
          ]
        }
      ]
    },
    {
      "cell_type": "code",
      "source": [
        "# 데이터 합치기\n",
        "# 예제 데이터프레임 생성\n",
        "data_1 = data[['Age', 'LoyaltyProgramMember', 'Income']]\n",
        "# data_1 데이터 형태\n",
        "print(\"Original data_1:\\n\", data_1.head())\n",
        "data_2 = data[['Gender', 'Income']]\n",
        "# data_2 데이터 형태\n",
        "print(\"Original data_2:\\n\", data_2.head())\n",
        "merged_data = pd.merge(data_1, data_2, on='Income')\n",
        "print(\"Merged data:\\n\", merged_data.head())"
      ],
      "metadata": {
        "colab": {
          "base_uri": "https://localhost:8080/"
        },
        "id": "qr1R0Hpz_qOg",
        "outputId": "2fe7ade1-e542-430d-9062-51329922719c"
      },
      "execution_count": 64,
      "outputs": [
        {
          "output_type": "stream",
          "name": "stdout",
          "text": [
            "Original data_1:\n",
            "    Age  LoyaltyProgramMember  Income\n",
            "0   35                     1   83380\n",
            "1   19                     0   43623\n",
            "2   41                     0   83737\n",
            "3   43                     0   96768\n",
            "4   55                     1   67937\n",
            "Original data_2:\n",
            "    Gender  Income\n",
            "0       1   83380\n",
            "1       1   43623\n",
            "2       0   83737\n",
            "3       1   96768\n",
            "4       0   67937\n",
            "Merged data:\n",
            "    Age  LoyaltyProgramMember  Income  Gender\n",
            "0   35                     1   83380       1\n",
            "1   19                     0   43623       1\n",
            "2   41                     0   83737       0\n",
            "3   43                     0   96768       1\n",
            "4   55                     1   67937       0\n"
          ]
        }
      ]
    },
    {
      "cell_type": "code",
      "source": [
        "# 데이터 그룹화\n",
        "grouped_data = data.groupby('Gender').agg({'Income': 'mean', 'Age': 'mean'})\n",
        "print(\"Grouped data:\\n\", grouped_data)"
      ],
      "metadata": {
        "colab": {
          "base_uri": "https://localhost:8080/"
        },
        "id": "omWp5nQYARU8",
        "outputId": "844a4616-5793-4e4b-d523-951dddba92d1"
      },
      "execution_count": 65,
      "outputs": [
        {
          "output_type": "stream",
          "name": "stdout",
          "text": [
            "Grouped data:\n",
            "               Income        Age\n",
            "Gender                         \n",
            "0       85743.695652  44.077734\n",
            "1       86104.412955  43.580297\n"
          ]
        }
      ]
    },
    {
      "cell_type": "code",
      "source": [
        "# 파생 변수 생성\n",
        "data['AgeGroup'] = pd.cut(data['Age'], bins=[0, 18, 35, 50, 100], labels=['Child', 'Young Adult', 'Adult', 'Senior'])\n",
        "print(\"Data with AgeGroup:\\n\", data[['Age', 'AgeGroup']].head())"
      ],
      "metadata": {
        "colab": {
          "base_uri": "https://localhost:8080/"
        },
        "id": "Nk6DMbO8AWno",
        "outputId": "32c5db09-91ef-4336-e485-5887c1702154"
      },
      "execution_count": 66,
      "outputs": [
        {
          "output_type": "stream",
          "name": "stdout",
          "text": [
            "Data with AgeGroup:\n",
            "    Age     AgeGroup\n",
            "0   35  Young Adult\n",
            "1   19  Young Adult\n",
            "2   41        Adult\n",
            "3   43        Adult\n",
            "4   55       Senior\n"
          ]
        }
      ]
    },
    {
      "cell_type": "code",
      "source": [
        "# 데이터 샘플링\n",
        "sampled_data = data.sample(frac=0.1, random_state=42)\n",
        "print(\"Sampled data:\\n\", sampled_data.head())\n",
        "print(\"*\"*30)\n",
        "print(\"Sampled data info:\\n\", sampled_data.info())"
      ],
      "metadata": {
        "colab": {
          "base_uri": "https://localhost:8080/"
        },
        "id": "RdSOxKgKAa2G",
        "outputId": "05a98637-99bd-4e87-d40f-060fcd0de693"
      },
      "execution_count": 67,
      "outputs": [
        {
          "output_type": "stream",
          "name": "stdout",
          "text": [
            "Sampled data:\n",
            "       CustomerID  Age  Gender  Income VisitFrequency  AverageSpend  \\\n",
            "1116        1770   48       0   73847          Daily     81.060135   \n",
            "1368        2022   28       0   63728         Weekly     59.695381   \n",
            "422         1076   51       0   41323         Rarely     49.910812   \n",
            "413         1067   40       0  117841          Daily    186.769294   \n",
            "451         1105   58       0  120168          Daily     68.929441   \n",
            "\n",
            "     PreferredCuisine TimeOfVisit  GroupSize DiningOccasion  MealType  \\\n",
            "1116          Mexican      Dinner          8    Celebration  Takeaway   \n",
            "1368          Italian       Lunch          5       Business   Dine-in   \n",
            "422           Italian       Lunch          7    Celebration   Dine-in   \n",
            "413           Italian      Dinner          6       Business  Takeaway   \n",
            "451            Indian   Breakfast          5         Casual  Takeaway   \n",
            "\n",
            "      OnlineReservation  DeliveryOrder  LoyaltyProgramMember   WaitTime  \\\n",
            "1116                  0              0                     0  34.217811   \n",
            "1368                  0              0                     0  25.421074   \n",
            "422                   0              1                     0  50.497703   \n",
            "413                   1              0                     1  56.377402   \n",
            "451                   1              1                     1  25.977449   \n",
            "\n",
            "      ServiceRating  FoodRating  AmbianceRating  HighSatisfaction     AgeGroup  \n",
            "1116              3           1               2                 0        Adult  \n",
            "1368              1           2               3                 1  Young Adult  \n",
            "422               2           4               3                 0       Senior  \n",
            "413               3           5               1                 0        Adult  \n",
            "451               3           2               3                 0       Senior  \n",
            "******************************\n",
            "<class 'pandas.core.frame.DataFrame'>\n",
            "Index: 150 entries, 1116 to 782\n",
            "Data columns (total 20 columns):\n",
            " #   Column                Non-Null Count  Dtype   \n",
            "---  ------                --------------  -----   \n",
            " 0   CustomerID            150 non-null    int64   \n",
            " 1   Age                   150 non-null    int64   \n",
            " 2   Gender                150 non-null    int64   \n",
            " 3   Income                150 non-null    int64   \n",
            " 4   VisitFrequency        150 non-null    object  \n",
            " 5   AverageSpend          150 non-null    float64 \n",
            " 6   PreferredCuisine      150 non-null    object  \n",
            " 7   TimeOfVisit           150 non-null    object  \n",
            " 8   GroupSize             150 non-null    int64   \n",
            " 9   DiningOccasion        150 non-null    object  \n",
            " 10  MealType              150 non-null    object  \n",
            " 11  OnlineReservation     150 non-null    int64   \n",
            " 12  DeliveryOrder         150 non-null    int64   \n",
            " 13  LoyaltyProgramMember  150 non-null    int64   \n",
            " 14  WaitTime              150 non-null    float64 \n",
            " 15  ServiceRating         150 non-null    int64   \n",
            " 16  FoodRating            150 non-null    int64   \n",
            " 17  AmbianceRating        150 non-null    int64   \n",
            " 18  HighSatisfaction      150 non-null    int64   \n",
            " 19  AgeGroup              150 non-null    category\n",
            "dtypes: category(1), float64(2), int64(12), object(5)\n",
            "memory usage: 23.8+ KB\n",
            "Sampled data info:\n",
            " None\n"
          ]
        }
      ]
    },
    {
      "cell_type": "code",
      "source": [
        "# PCA (주성분 분석)\n",
        "from sklearn.decomposition import PCA\n",
        "\n",
        "# PCA 적용\n",
        "pca = PCA(n_components=2)\n",
        "pca_result = pca.fit_transform(data[['Age', 'Income', 'WaitTime']])\n",
        "\n",
        "# 결과를 데이터프레임으로 변환\n",
        "pca_df = pd.DataFrame(pca_result, columns=['PC1', 'PC2'])\n",
        "\n",
        "print(\"PCA Result:\\n\", pca_df.head())"
      ],
      "metadata": {
        "colab": {
          "base_uri": "https://localhost:8080/"
        },
        "id": "XLyYkbT0Ad5V",
        "outputId": "38f95cf7-24ca-43de-ae95-b5a0f61b4b94"
      },
      "execution_count": 68,
      "outputs": [
        {
          "output_type": "stream",
          "name": "stdout",
          "text": [
            "PCA Result:\n",
            "             PC1        PC2\n",
            "0   2541.890006 -13.961914\n",
            "1  42298.889919 -28.796518\n",
            "2   2184.890131 -18.661166\n",
            "3 -10846.110215  22.397729\n",
            "4  17984.890213  -6.625175\n"
          ]
        }
      ]
    },
    {
      "cell_type": "code",
      "source": [
        "# 전처리 작업의 자동화 (파이프라인 구축)\n",
        "from sklearn.pipeline import Pipeline  # 파이프라인 구축을 위한 클래스\n",
        "from sklearn.impute import SimpleImputer  # 결측값 처리\n",
        "from sklearn.preprocessing import StandardScaler  # 데이터 스케일링\n",
        "\n",
        "# 예제를 위한 데이터 분리\n",
        "data_1 = data[['Age', 'Income', 'WaitTime']]\n",
        "\n",
        "# 파이프라인 구축\n",
        "pipeline = Pipeline([\n",
        "    ('imputer', SimpleImputer(strategy='mean')),  # 결측값 대체\n",
        "    ('scaler', StandardScaler())  # 데이터 스케일링\n",
        "])\n",
        "\n",
        "# 데이터 변환\n",
        "processed_data = pipeline.fit_transform(data_1)\n",
        "\n",
        "# 결과를 데이터프레임으로 변환\n",
        "processed_data_df = pd.DataFrame(processed_data, columns=['Age', 'Income', 'WaitTime'])\n",
        "\n",
        "print(\"Processed Data:\\n\", processed_data_df.head())"
      ],
      "metadata": {
        "colab": {
          "base_uri": "https://localhost:8080/"
        },
        "id": "biKhbTp_A95A",
        "outputId": "a0cd9a08-d1b2-472e-d93b-a0180ae6810b"
      },
      "execution_count": 69,
      "outputs": [
        {
          "output_type": "stream",
          "name": "stdout",
          "text": [
            "Processed Data:\n",
            "         Age    Income  WaitTime\n",
            "0 -0.590289 -0.066593  0.776385\n",
            "1 -1.659653 -1.108162  1.589960\n",
            "2 -0.189277 -0.057241  1.076162\n",
            "3 -0.055607  0.284150 -1.313922\n",
            "4  0.746416 -0.471175  0.443125\n"
          ]
        }
      ]
    }
  ]
}