{
  "nbformat": 4,
  "nbformat_minor": 0,
  "metadata": {
    "colab": {
      "provenance": [],
      "include_colab_link": true
    },
    "kernelspec": {
      "name": "python3",
      "display_name": "Python 3"
    },
    "language_info": {
      "name": "python"
    }
  },
  "cells": [
    {
      "cell_type": "markdown",
      "metadata": {
        "id": "view-in-github",
        "colab_type": "text"
      },
      "source": [
        "<a href=\"https://colab.research.google.com/github/myungseonSim/kakao-tech/blob/main/GenAi/KTB_Day4.ipynb\" target=\"_parent\"><img src=\"https://colab.research.google.com/assets/colab-badge.svg\" alt=\"Open In Colab\"/></a>"
      ]
    },
    {
      "cell_type": "markdown",
      "source": [
        "# 파이썬 프로그래밍 II 종합 실습\n",
        "\n",
        "collections 모듈, comprehension, logging, 정규표현식, 멀티스레딩, 멀티프로세싱을 활용합니다.\n",
        "\n"
      ],
      "metadata": {
        "id": "o2A6nokuDOFH"
      }
    },
    {
      "cell_type": "markdown",
      "source": [
        "과제 1: Collections 모듈 활용\n",
        "\n",
        "EXAMPLE_SEQUENCE 값을 활용해보세요.\n",
        "\n",
        "1. Deque: Deque를 생성하고, 요소를 추가하고 제거하는 작업을 해보세요.\n",
        "\n",
        "2. Namedtuple: Namedtuple을 정의하고 인스턴스를 생성해보세요.\n",
        "\n",
        "3. Defaultdict: Defaultdict를 사용해보세요. 키가 없을 때 기본값을 설정하세요.\n",
        "\n",
        "4. Counter: Counter를 사용해 리스트에서 각 요소의 빈도를 세어보세요."
      ],
      "metadata": {
        "id": "wSeIu_4nDSsP"
      }
    },
    {
      "cell_type": "code",
      "execution_count": null,
      "metadata": {
        "id": "DOHabDfaDMyp",
        "outputId": "49e860bb-5dd2-499a-ab5e-c85ae7439861",
        "colab": {
          "base_uri": "https://localhost:8080/"
        }
      },
      "outputs": [
        {
          "output_type": "stream",
          "name": "stdout",
          "text": [
            "Depue : deque(['tiger', 'dog', 'cat', 'mouse', 'parrot', 'frog', 'lion'])\n",
            "Namedtuple : Fruit(name='dog', color='red')\n",
            "Defaultdict : defaultdict(<class 'int'>, {'a': 1, 'b': 2})\n",
            "Counter : Counter({'dog': 1, 'cat': 1, 'mouse': 1, 'parrot': 1, 'frog': 1})\n"
          ]
        }
      ],
      "source": [
        "from collections import deque, namedtuple, defaultdict, Counter\n",
        "\n",
        "EXAMPLE_SEQUENCE = ['dog', 'cat', 'mouse', 'parrot', 'frog']\n",
        "\n",
        "#depue\n",
        "dp = deque(EXAMPLE_SEQUENCE)\n",
        "dp.append('lion')\n",
        "dp.appendleft('tiger')\n",
        "print(\"Depue :\",dp)\n",
        "\n",
        "#namedtuple\n",
        "Animal = namedtuple('Fruit', 'name color')\n",
        "apple = Animal('dog', 'red')\n",
        "print(\"Namedtuple :\",apple)\n",
        "\n",
        "#defaultdict\n",
        "dd = defaultdict(int)\n",
        "dd['a'] = 1\n",
        "dd['b'] = 2\n",
        "print(\"Defaultdict :\",dd)\n",
        "\n",
        "#counter\n",
        "cnt = Counter(EXAMPLE_SEQUENCE)\n",
        "print(\"Counter :\",cnt)"
      ]
    },
    {
      "cell_type": "markdown",
      "source": [
        "과제 2: Comprehension 활용\n",
        "\n",
        "EXAMPLE_SEQUENCE 값을 활용해보세요.\n",
        "\n",
        "1. 리스트 컴프리헨션: 숫자 리스트의 제곱값을 구하세요.\n",
        "\n",
        "2. 딕셔너리 컴프리헨션: 키가 숫자이고 값이 그 숫자의 제곱인 딕셔너리를 생성하세요.\n",
        "\n",
        "3. 집합 컴프리헨션: 중복된 값을 제거한 제곱값 집합을 생성하세요."
      ],
      "metadata": {
        "id": "VUAClu_dD07F"
      }
    },
    {
      "cell_type": "code",
      "source": [
        "EXAMPLE_SEQUENCE = [1, 4, 12, 9, 22, 5, 1, 9]\n",
        "\n",
        "#리스트 컴프리헨션\n",
        "squared_numbers = [num**2 for num in EXAMPLE_SEQUENCE]\n",
        "print(\"List Comprehension :\",squared_numbers)\n",
        "\n",
        "#딕셔너리 컴프리헨션\n",
        "squared_dict = {num: num**2 for num in EXAMPLE_SEQUENCE}\n",
        "print(\"Dictionary Comprehension :\",squared_dict)\n",
        "\n",
        "#집합 컴프리헨션\n",
        "squared_set = {num**2 for num in EXAMPLE_SEQUENCE}\n",
        "print(\"Set Comprehension :\",squared_set)"
      ],
      "metadata": {
        "id": "UXRdE3o0EDwK",
        "outputId": "8bfeeb00-66c2-46c0-dd42-78321ae8dca3",
        "colab": {
          "base_uri": "https://localhost:8080/"
        }
      },
      "execution_count": null,
      "outputs": [
        {
          "output_type": "stream",
          "name": "stdout",
          "text": [
            "List Comprehension : [1, 16, 144, 81, 484, 25, 1, 81]\n",
            "Dictionary Comprehension : {1: 1, 4: 16, 12: 144, 9: 81, 22: 484, 5: 25}\n",
            "Set Comprehension : {1, 484, 16, 144, 81, 25}\n"
          ]
        }
      ]
    },
    {
      "cell_type": "markdown",
      "source": [
        "과제 3: Logging 활용\n",
        "\n",
        "1. 기본 로깅 설정: 로깅을 설정하고 정보를 로깅하세요. 로그의 형태는 '시간 - 에러레벨 - 메시지' 입니다.\n",
        "\n",
        "2. 예외 로깅: 예외가 발생했을 때 에러를 로깅하세요."
      ],
      "metadata": {
        "id": "j-42IEV_Ec35"
      }
    },
    {
      "cell_type": "code",
      "source": [
        "import logging\n",
        "\n",
        "#로깅 설정\n",
        "logging.basicConfig(level=logging.DEBUG, format='%(asctime)s - %(levelname)s - %(message)s')\n",
        "\n",
        "#로깅 객체\n",
        "logger = logging.getLogger(__name__)\n",
        "\n",
        "def divice(a, b):\n",
        "    try:\n",
        "        result = a / b\n",
        "        logger.info('Division Successful!')\n",
        "        return result\n",
        "    except ZeroDivisionError as e:\n",
        "        logger.error(f'Division by Zero Error: {e}')\n",
        "        return None\n",
        "\n",
        "#로깅 테스트\n",
        "print(\"Division successful\\n\",divice(10,2))\n",
        "print(\"Division by Zero Error\\n\",divice(10,0))"
      ],
      "metadata": {
        "id": "Q7jfbpQTEz8N",
        "outputId": "e53a3974-d256-40bc-e2d4-1227e1795667",
        "colab": {
          "base_uri": "https://localhost:8080/"
        }
      },
      "execution_count": null,
      "outputs": [
        {
          "output_type": "stream",
          "name": "stderr",
          "text": [
            "ERROR:__main__:Division by Zero Error: division by zero\n"
          ]
        },
        {
          "output_type": "stream",
          "name": "stdout",
          "text": [
            "Division successful\n",
            " 5.0\n",
            "Division by Zero Error\n",
            " None\n"
          ]
        }
      ]
    },
    {
      "cell_type": "markdown",
      "source": [
        "과제 4: 정규 표현식 사용\n",
        "\n",
        "1. 기본 패턴 매칭: 이메일 주소를 추출하세요.\n",
        "\n",
        "2. 기본 패턴 매칭: 비식별화를 진행하세요. ID를 앞 3글자 이외는 모두 '*'로 변경합니다.\n",
        "\n",
        "3. 고급 패턴 매칭: HTML 태그를 제거하세요."
      ],
      "metadata": {
        "id": "VGcHabOVE4mI"
      }
    },
    {
      "cell_type": "code",
      "source": [
        "import re\n",
        "\n",
        "#이메일 주소 추출\n",
        "email = \"MY name is Jhin, my email is kakaotech@goorm.io\"\n",
        "pattern = r'\\b[A-Za-z0-9._%+-]+@[A-Za-z0-9.-]+\\.[A-Z|a-z]{2,}\\b'\n",
        "matches = re.findall(pattern, email)\n",
        "print(\"Email :\",matches)\n",
        "\n",
        "#비식별화\n",
        "id_list = [\"jhin.lee\", \"lovelove123\", \"세종대왕만세!!\", \"twin에너지123\", \"PostModern\"]\n",
        "def my_anonymize(id_list):\n",
        "  anonymized_ids = []\n",
        "  #(.{3}) -> 처음 3글자를 캡처\n",
        "  #.* -> 나머지 문자열\n",
        "  pattern = re.compile(r'(.{3}).*')\n",
        "  for id_str in id_list:\n",
        "      anonymized_id = pattern.sub(r'\\1' + '*' * (len(id_str) - 3), id_str)\n",
        "      anonymized_ids.append(anonymized_id)\n",
        "  return anonymized_ids\n",
        "\n",
        "anonymized_list = my_anonymize(id_list)\n",
        "\n",
        "print(f\"비식별화된 ID: {anonymized_list}\")\n",
        "\n",
        "#HTML 태그 제거\n",
        "html = \"<p>Hello, <b>World!</b></p>\"\n",
        "pattern = r'<.*?>'\n",
        "result = re.sub(pattern, '', html)\n",
        "print(\"태그 제거 후 텍스트 : :\",result)"
      ],
      "metadata": {
        "id": "I-9AqxWWE59J",
        "outputId": "79aadec3-cf80-4b1c-8966-c69cd1682005",
        "colab": {
          "base_uri": "https://localhost:8080/"
        }
      },
      "execution_count": null,
      "outputs": [
        {
          "output_type": "stream",
          "name": "stdout",
          "text": [
            "Email : ['kakaotech@goorm.io']\n",
            "비식별화된 ID: ['jhi*****', 'lov********', '세종대*****', 'twi*******', 'Pos*******']\n",
            "태그 제거 후 텍스트 : : Hello, World!\n"
          ]
        }
      ]
    },
    {
      "cell_type": "markdown",
      "source": [
        "과제 5: 멀티스레딩과 멀티프로세싱\n",
        "\n",
        "1. 스레딩: 한 개의 스레드를 생성하고 실행하는 함수를 작성해주세요.\n",
        "\n",
        "2. 멀티스레딩: 두 개의 스레드를 생성하고 실행하세요.\n",
        "\n",
        "3. 멀티프로세싱: 두 개의 프로세스를 생성하고 실행하세요."
      ],
      "metadata": {
        "id": "tOrX28FZFOYA"
      }
    },
    {
      "cell_type": "code",
      "source": [
        "import threading\n",
        "import multiprocessing\n",
        "import time\n",
        "\n",
        "A = 0\n",
        "#숫자를 출력하는 함수\n",
        "def print_num():\n",
        "    global A\n",
        "    for i in range(5):\n",
        "      print(\"i\",i)\n",
        "      print(\"공통A :\",A)\n",
        "      A += 1\n",
        "      time.sleep(1)\n",
        "\n",
        "#두 개의 스레드 생성 및 시작\n",
        "print(\"--------------------------------------thread start-----------------------------------------------\")\n",
        "thread1 = threading.Thread(target=print_num)\n",
        "thread2 = threading.Thread(target=print_num)\n",
        "thread1.start()\n",
        "thread2.start()\n",
        "thread1.join()\n",
        "thread2.join()\n",
        "\n",
        "print(\"--------------------------------------thread end-----------------------------------------------\")\n",
        "print(\"--------------------------------------process start-----------------------------------------------\")\n",
        "#두 개의 프로세스 생성 및 시작\n",
        "process1 = multiprocessing.Process(target=print_num)\n",
        "process2 = multiprocessing.Process(target=print_num)\n",
        "process1.start()\n",
        "process2.start()\n",
        "process1.join()\n",
        "process2.join()\n",
        "\n",
        "print(\"--------------------------------------process end-----------------------------------------------\")"
      ],
      "metadata": {
        "id": "6t3JDv6eFOEk",
        "outputId": "bae17c1c-ca38-40fd-c44d-45da403238b7",
        "colab": {
          "base_uri": "https://localhost:8080/"
        }
      },
      "execution_count": null,
      "outputs": [
        {
          "output_type": "stream",
          "name": "stdout",
          "text": [
            "--------------------------------------thread start-----------------------------------------------\n",
            "i 0\n",
            "공통A : 0\n",
            "i 0\n",
            "공통A : 1\n",
            "i 1\n",
            "공통A : 2\n",
            "i 1\n",
            "공통A : 3\n",
            "i 2\n",
            "공통A : 4\n",
            "i 2\n",
            "공통A : 5\n",
            "i 3\n",
            "공통A : 6\n",
            "i 3\n",
            "공통A : 7\n",
            "i 4\n",
            "공통A : 8\n",
            "i 4\n",
            "공통A : 9\n",
            "--------------------------------------thread end-----------------------------------------------\n",
            "--------------------------------------process start-----------------------------------------------\n",
            "i 0\n",
            "공통A : 10\n",
            "i 0\n",
            "공통A : 10\n",
            "i 1\n",
            "공통A : 11\n",
            "i 1\n",
            "공통A : 11\n",
            "i 2\n",
            "공통A : 12\n",
            "i 2\n",
            "공통A : 12\n",
            "i 3\n",
            "공통A : 13\n",
            "i 3\n",
            "공통A : 13\n",
            "i 4\n",
            "공통A : 14\n",
            "i 4\n",
            "공통A : 14\n",
            "--------------------------------------process end-----------------------------------------------\n"
          ]
        }
      ]
    },
    {
      "cell_type": "code",
      "source": [],
      "metadata": {
        "id": "ZpbDMek93i49"
      },
      "execution_count": null,
      "outputs": []
    }
  ]
}