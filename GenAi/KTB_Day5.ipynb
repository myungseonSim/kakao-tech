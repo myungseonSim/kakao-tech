{
  "nbformat": 4,
  "nbformat_minor": 0,
  "metadata": {
    "colab": {
      "provenance": [],
      "authorship_tag": "ABX9TyNAIf2S7PyTSWTHl6tUz/pD",
      "include_colab_link": true
    },
    "kernelspec": {
      "name": "python3",
      "display_name": "Python 3"
    },
    "language_info": {
      "name": "python"
    }
  },
  "cells": [
    {
      "cell_type": "markdown",
      "metadata": {
        "id": "view-in-github",
        "colab_type": "text"
      },
      "source": [
        "<a href=\"https://colab.research.google.com/github/myungseonSim/kakao-tech/blob/main/GenAi/KTB_Day5.ipynb\" target=\"_parent\"><img src=\"https://colab.research.google.com/assets/colab-badge.svg\" alt=\"Open In Colab\"/></a>"
      ]
    },
    {
      "cell_type": "markdown",
      "source": [
        "데이터분석 실습\n",
        "\n",
        "데이터는 kaggle 등에서 본인이 원하는 데이터를 수집하여 사용합니다."
      ],
      "metadata": {
        "id": "obRKh6cLAPtD"
      }
    },
    {
      "cell_type": "markdown",
      "source": [
        "1. 데이터의 종류와 속성\n",
        "\n",
        "\n",
        "*   주어진 데이터셋에서 범주형 및 연속형 데이터 열을 식별하고, 각 열의 기술 통계와 빈도수를 출력해보세요.\n"
      ],
      "metadata": {
        "id": "8i6HFcrkAaV8"
      }
    },
    {
      "cell_type": "code",
      "execution_count": 2,
      "metadata": {
        "colab": {
          "base_uri": "https://localhost:8080/"
        },
        "id": "2_XE1DAVAI7T",
        "outputId": "2ad90617-c77e-4de6-987c-b3e1d0008d12"
      },
      "outputs": [
        {
          "output_type": "stream",
          "name": "stdout",
          "text": [
            "Dataset URL: https://www.kaggle.com/datasets/mysarahmadbhat/lung-cancer\n",
            "License(s): CC0-1.0\n",
            "Downloading lung-cancer.zip to /content\n",
            "  0% 0.00/2.00k [00:00<?, ?B/s]\n",
            "100% 2.00k/2.00k [00:00<00:00, 3.86MB/s]\n"
          ]
        }
      ],
      "source": [
        "#폐암 데이터셋 불러오기\n",
        "!kaggle datasets download -d mysarahmadbhat/lung-cancer"
      ]
    },
    {
      "cell_type": "code",
      "source": [
        "#데이터 셋 zip파일 풀기\n",
        "!unzip lung-cancer.zip"
      ],
      "metadata": {
        "colab": {
          "base_uri": "https://localhost:8080/"
        },
        "id": "NRiqa15CObab",
        "outputId": "e11792a0-5e30-4b56-d82a-7d1ba9fed203"
      },
      "execution_count": 3,
      "outputs": [
        {
          "output_type": "stream",
          "name": "stdout",
          "text": [
            "Archive:  lung-cancer.zip\n",
            "  inflating: survey lung cancer.csv  \n"
          ]
        }
      ]
    },
    {
      "cell_type": "code",
      "source": [
        "import pandas as pd\n",
        "\n",
        "#데이터 셋 로드\n",
        "data = pd.read_csv('survey lung cancer.csv')\n",
        "\n",
        "#데이터의 처음 몇 줄을 출력하여 구조 확인\n",
        "print(\"#\"*10)\n",
        "print(data.head())\n",
        "\n",
        "#데이터의 각 컬럼에 대한 정보 확인\n",
        "print(\"#\"*10)\n",
        "print(data.info())"
      ],
      "metadata": {
        "colab": {
          "base_uri": "https://localhost:8080/"
        },
        "id": "ERR2e7zkOnM0",
        "outputId": "ec5b4c91-44be-4760-f44b-dac139075573"
      },
      "execution_count": 6,
      "outputs": [
        {
          "output_type": "stream",
          "name": "stdout",
          "text": [
            "##########\n",
            "  GENDER  AGE  SMOKING  YELLOW_FINGERS  ANXIETY  PEER_PRESSURE  \\\n",
            "0      M   69        1               2        2              1   \n",
            "1      M   74        2               1        1              1   \n",
            "2      F   59        1               1        1              2   \n",
            "3      M   63        2               2        2              1   \n",
            "4      F   63        1               2        1              1   \n",
            "\n",
            "   CHRONIC DISEASE  FATIGUE   ALLERGY   WHEEZING  ALCOHOL CONSUMING  COUGHING  \\\n",
            "0                1         2         1         2                  2         2   \n",
            "1                2         2         2         1                  1         1   \n",
            "2                1         2         1         2                  1         2   \n",
            "3                1         1         1         1                  2         1   \n",
            "4                1         1         1         2                  1         2   \n",
            "\n",
            "   SHORTNESS OF BREATH  SWALLOWING DIFFICULTY  CHEST PAIN LUNG_CANCER  \n",
            "0                    2                      2           2         YES  \n",
            "1                    2                      2           2         YES  \n",
            "2                    2                      1           2          NO  \n",
            "3                    1                      2           2          NO  \n",
            "4                    2                      1           1          NO  \n",
            "##########\n",
            "<class 'pandas.core.frame.DataFrame'>\n",
            "RangeIndex: 309 entries, 0 to 308\n",
            "Data columns (total 16 columns):\n",
            " #   Column                 Non-Null Count  Dtype \n",
            "---  ------                 --------------  ----- \n",
            " 0   GENDER                 309 non-null    object\n",
            " 1   AGE                    309 non-null    int64 \n",
            " 2   SMOKING                309 non-null    int64 \n",
            " 3   YELLOW_FINGERS         309 non-null    int64 \n",
            " 4   ANXIETY                309 non-null    int64 \n",
            " 5   PEER_PRESSURE          309 non-null    int64 \n",
            " 6   CHRONIC DISEASE        309 non-null    int64 \n",
            " 7   FATIGUE                309 non-null    int64 \n",
            " 8   ALLERGY                309 non-null    int64 \n",
            " 9   WHEEZING               309 non-null    int64 \n",
            " 10  ALCOHOL CONSUMING      309 non-null    int64 \n",
            " 11  COUGHING               309 non-null    int64 \n",
            " 12  SHORTNESS OF BREATH    309 non-null    int64 \n",
            " 13  SWALLOWING DIFFICULTY  309 non-null    int64 \n",
            " 14  CHEST PAIN             309 non-null    int64 \n",
            " 15  LUNG_CANCER            309 non-null    object\n",
            "dtypes: int64(14), object(2)\n",
            "memory usage: 38.8+ KB\n",
            "None\n"
          ]
        }
      ]
    },
    {
      "cell_type": "code",
      "source": [
        "#데이터 타입 확인\n",
        "print(\"#\"*10)\n",
        "print(data.dtypes)\n",
        "#90프로이상 숫자형 변수인 것 으로 확인"
      ],
      "metadata": {
        "colab": {
          "base_uri": "https://localhost:8080/"
        },
        "id": "tXekuP_kO8Gy",
        "outputId": "52ebd1ba-db2d-4fd2-b716-e9ab6f55a396"
      },
      "execution_count": 7,
      "outputs": [
        {
          "output_type": "stream",
          "name": "stdout",
          "text": [
            "##########\n",
            "GENDER                   object\n",
            "AGE                       int64\n",
            "SMOKING                   int64\n",
            "YELLOW_FINGERS            int64\n",
            "ANXIETY                   int64\n",
            "PEER_PRESSURE             int64\n",
            "CHRONIC DISEASE           int64\n",
            "FATIGUE                   int64\n",
            "ALLERGY                   int64\n",
            "WHEEZING                  int64\n",
            "ALCOHOL CONSUMING         int64\n",
            "COUGHING                  int64\n",
            "SHORTNESS OF BREATH       int64\n",
            "SWALLOWING DIFFICULTY     int64\n",
            "CHEST PAIN                int64\n",
            "LUNG_CANCER              object\n",
            "dtype: object\n"
          ]
        }
      ]
    },
    {
      "cell_type": "code",
      "source": [
        "#범주형 및 수치형 데이터 분리하여 분석\n",
        "categorical_cols = data.select_dtypes(include=['object']).columns\n",
        "numerical_cols = data.select_dtypes(include=['int64', 'float64']).columns\n",
        "\n",
        "#범주형 데이터 분포 확인\n",
        "print(\"#\"*10)\n",
        "print(categorical_cols)\n",
        "\n",
        "#수치형 데이터 분포 확인\n",
        "print(\"#\"*10)\n",
        "print(numerical_cols)"
      ],
      "metadata": {
        "colab": {
          "base_uri": "https://localhost:8080/"
        },
        "id": "BOLkPsOLPZMN",
        "outputId": "dd4120de-4e70-4e6c-e0fe-00b7f38087fd"
      },
      "execution_count": 10,
      "outputs": [
        {
          "output_type": "stream",
          "name": "stdout",
          "text": [
            "##########\n",
            "Index(['GENDER', 'LUNG_CANCER'], dtype='object')\n",
            "##########\n",
            "Index(['AGE', 'SMOKING', 'YELLOW_FINGERS', 'ANXIETY', 'PEER_PRESSURE',\n",
            "       'CHRONIC DISEASE', 'FATIGUE ', 'ALLERGY ', 'WHEEZING',\n",
            "       'ALCOHOL CONSUMING', 'COUGHING', 'SHORTNESS OF BREATH',\n",
            "       'SWALLOWING DIFFICULTY', 'CHEST PAIN'],\n",
            "      dtype='object')\n"
          ]
        }
      ]
    },
    {
      "cell_type": "markdown",
      "source": [
        "2. 데이터탐색(EDA)\n",
        "\n",
        "\n",
        "*   제공된 데이터셋의 결측치와 중복을 파악하고, 적절한 처리 방안을 제안해보세요.\n"
      ],
      "metadata": {
        "id": "NSUUZdHYiOXg"
      }
    },
    {
      "cell_type": "code",
      "source": [
        "#결측치 확인\n",
        "print(\"\\nMissing Values:\", data.isnull().sum())\n",
        "\n",
        "#각 범주형 변수의 유니크한 값과 빈도수\n",
        "for col in categorical_cols:\n",
        "    print(f\"\\nUnique Values in {col}:\\n {data[col].value_counts()}\")\n",
        "\n",
        "#수치형 데이터의 기초 통계\n",
        "print(\"\\nNumerical Data Statistics:\")\n",
        "print(data[numerical_cols].describe())\n",
        "\n",
        "#결정트리에 용이?"
      ],
      "metadata": {
        "colab": {
          "base_uri": "https://localhost:8080/"
        },
        "id": "p1AkoYTIQE6o",
        "outputId": "d51bded8-bea6-47fc-b195-bfddfb3d9c0f"
      },
      "execution_count": 11,
      "outputs": [
        {
          "output_type": "stream",
          "name": "stdout",
          "text": [
            "\n",
            "Missing Values: GENDER                   0\n",
            "AGE                      0\n",
            "SMOKING                  0\n",
            "YELLOW_FINGERS           0\n",
            "ANXIETY                  0\n",
            "PEER_PRESSURE            0\n",
            "CHRONIC DISEASE          0\n",
            "FATIGUE                  0\n",
            "ALLERGY                  0\n",
            "WHEEZING                 0\n",
            "ALCOHOL CONSUMING        0\n",
            "COUGHING                 0\n",
            "SHORTNESS OF BREATH      0\n",
            "SWALLOWING DIFFICULTY    0\n",
            "CHEST PAIN               0\n",
            "LUNG_CANCER              0\n",
            "dtype: int64\n",
            "\n",
            "Unique Values in GENDER:\n",
            " GENDER\n",
            "M    162\n",
            "F    147\n",
            "Name: count, dtype: int64\n",
            "\n",
            "Unique Values in LUNG_CANCER:\n",
            " LUNG_CANCER\n",
            "YES    270\n",
            "NO      39\n",
            "Name: count, dtype: int64\n",
            "\n",
            "Numerical Data Statistics:\n",
            "              AGE     SMOKING  YELLOW_FINGERS     ANXIETY  PEER_PRESSURE  \\\n",
            "count  309.000000  309.000000      309.000000  309.000000     309.000000   \n",
            "mean    62.673139    1.563107        1.569579    1.498382       1.501618   \n",
            "std      8.210301    0.496806        0.495938    0.500808       0.500808   \n",
            "min     21.000000    1.000000        1.000000    1.000000       1.000000   \n",
            "25%     57.000000    1.000000        1.000000    1.000000       1.000000   \n",
            "50%     62.000000    2.000000        2.000000    1.000000       2.000000   \n",
            "75%     69.000000    2.000000        2.000000    2.000000       2.000000   \n",
            "max     87.000000    2.000000        2.000000    2.000000       2.000000   \n",
            "\n",
            "       CHRONIC DISEASE    FATIGUE     ALLERGY     WHEEZING  ALCOHOL CONSUMING  \\\n",
            "count       309.000000  309.000000  309.000000  309.000000         309.000000   \n",
            "mean          1.504854    1.673139    1.556634    1.556634           1.556634   \n",
            "std           0.500787    0.469827    0.497588    0.497588           0.497588   \n",
            "min           1.000000    1.000000    1.000000    1.000000           1.000000   \n",
            "25%           1.000000    1.000000    1.000000    1.000000           1.000000   \n",
            "50%           2.000000    2.000000    2.000000    2.000000           2.000000   \n",
            "75%           2.000000    2.000000    2.000000    2.000000           2.000000   \n",
            "max           2.000000    2.000000    2.000000    2.000000           2.000000   \n",
            "\n",
            "         COUGHING  SHORTNESS OF BREATH  SWALLOWING DIFFICULTY  CHEST PAIN  \n",
            "count  309.000000           309.000000             309.000000  309.000000  \n",
            "mean     1.579288             1.640777               1.469256    1.556634  \n",
            "std      0.494474             0.480551               0.499863    0.497588  \n",
            "min      1.000000             1.000000               1.000000    1.000000  \n",
            "25%      1.000000             1.000000               1.000000    1.000000  \n",
            "50%      2.000000             2.000000               1.000000    2.000000  \n",
            "75%      2.000000             2.000000               2.000000    2.000000  \n",
            "max      2.000000             2.000000               2.000000    2.000000  \n"
          ]
        }
      ]
    },
    {
      "cell_type": "markdown",
      "source": [
        "3. 기초통계\n",
        "\n",
        "\n",
        "*   데이터셋의 왜도와 첨도를 계산하고, 그 의미에 대해 설명해보세요\n",
        "\n"
      ],
      "metadata": {
        "id": "I0PzPbQxjYeY"
      }
    },
    {
      "cell_type": "code",
      "source": [
        "print(data['AGE'].head(11))"
      ],
      "metadata": {
        "colab": {
          "base_uri": "https://localhost:8080/"
        },
        "id": "7Y02BXIzklrK",
        "outputId": "c94a1879-30f2-4f64-cd4c-fee04445fd2a"
      },
      "execution_count": 20,
      "outputs": [
        {
          "output_type": "stream",
          "name": "stdout",
          "text": [
            "0     69\n",
            "1     74\n",
            "2     59\n",
            "3     63\n",
            "4     63\n",
            "5     75\n",
            "6     52\n",
            "7     51\n",
            "8     68\n",
            "9     53\n",
            "10    61\n",
            "Name: AGE, dtype: int64\n"
          ]
        }
      ]
    },
    {
      "cell_type": "code",
      "source": [
        "#왜도와 첨도 확인\n",
        "\"\"\"\n",
        "왜도(Skewness): 0에 가까울수록 정규분포에 근사, 양의 값은 오른쪽 꼬리가 긴 분포(왼쪽으로 치우친), 음의 값은 왼쪽 꼬리가 긴 분포(오른쪽으로 치우친)\n",
        "첨도(Kurtosis): 0에 가까울수록 정규분포에 근사, 높으면 분포가 뾰족하고, 낮으면 평평\n",
        "\"\"\"\n",
        "print(\"\\nSkewness of the data:\\n\", data[numerical_cols].skew())\n",
        "print(\"\\nKurtosis of the data:\\n\", data[numerical_cols].kurt())"
      ],
      "metadata": {
        "colab": {
          "base_uri": "https://localhost:8080/"
        },
        "id": "D6GSGLppQ_4w",
        "outputId": "7ac41751-352a-4ad7-bd33-d81a4d478bad"
      },
      "execution_count": 13,
      "outputs": [
        {
          "output_type": "stream",
          "name": "stdout",
          "text": [
            "\n",
            "Skewness of the data:\n",
            " AGE                     -0.395086\n",
            "SMOKING                 -0.255705\n",
            "YELLOW_FINGERS          -0.282425\n",
            "ANXIETY                  0.006504\n",
            "PEER_PRESSURE           -0.006504\n",
            "CHRONIC DISEASE         -0.019513\n",
            "FATIGUE                 -0.741836\n",
            "ALLERGY                 -0.229118\n",
            "WHEEZING                -0.229118\n",
            "ALCOHOL CONSUMING       -0.229118\n",
            "COUGHING                -0.322786\n",
            "SHORTNESS OF BREATH     -0.589714\n",
            "SWALLOWING DIFFICULTY    0.123812\n",
            "CHEST PAIN              -0.229118\n",
            "dtype: float64\n",
            "\n",
            "Kurtosis of the data:\n",
            " AGE                      1.746558\n",
            "SMOKING                 -1.947261\n",
            "YELLOW_FINGERS          -1.932789\n",
            "ANXIETY                 -2.013029\n",
            "PEER_PRESSURE           -2.013029\n",
            "CHRONIC DISEASE         -2.012689\n",
            "FATIGUE                 -1.459167\n",
            "ALLERGY                 -1.960235\n",
            "WHEEZING                -1.960235\n",
            "ALCOHOL CONSUMING       -1.960235\n",
            "COUGHING                -1.908203\n",
            "SHORTNESS OF BREATH     -1.663044\n",
            "SWALLOWING DIFFICULTY   -1.997643\n",
            "CHEST PAIN              -1.960235\n",
            "dtype: float64\n"
          ]
        }
      ]
    },
    {
      "cell_type": "markdown",
      "source": [
        "4. 상관관계와 인과관계\n",
        "* 선택한 두 변수 간의 상관관계를 계산하고, 그 결과를 해석해 보세요.\n",
        "이를 바탕으로 가능한 인과관계를 논의해보세요.\n"
      ],
      "metadata": {
        "id": "PTXNAcFhibVq"
      }
    },
    {
      "cell_type": "code",
      "source": [
        "\"\"\"\n",
        "상관계수 값이 1에 가까울수록 완벽한 양의 상관관계, -1에 가까울수록 완벽한 음의 상관관계를 나타냅니다.\n",
        "\"\"\"\n",
        "\n",
        "#피어슨 상관계수\n",
        "print(\"\\nPearson Correlation Matrix:\\n\", data[numerical_cols].corr(method = 'pearson'))\n",
        "\n",
        "#스피어만 상관계수\n",
        "print(\"\\nSpearman Correlation Matrix:\\n\", data[numerical_cols].corr(method='spearman'))"
      ],
      "metadata": {
        "colab": {
          "base_uri": "https://localhost:8080/"
        },
        "id": "urofoc-6RJg2",
        "outputId": "3ff11453-f7b4-4fe6-8b21-578224b6556e"
      },
      "execution_count": 14,
      "outputs": [
        {
          "output_type": "stream",
          "name": "stdout",
          "text": [
            "\n",
            "Pearson Correlation Matrix:\n",
            "                             AGE   SMOKING  YELLOW_FINGERS   ANXIETY  \\\n",
            "AGE                    1.000000 -0.084475        0.005205  0.053170   \n",
            "SMOKING               -0.084475  1.000000       -0.014585  0.160267   \n",
            "YELLOW_FINGERS         0.005205 -0.014585        1.000000  0.565829   \n",
            "ANXIETY                0.053170  0.160267        0.565829  1.000000   \n",
            "PEER_PRESSURE          0.018685 -0.042822        0.323083  0.216841   \n",
            "CHRONIC DISEASE       -0.012642 -0.141522        0.041122 -0.009678   \n",
            "FATIGUE                0.012614 -0.029575       -0.118058 -0.188538   \n",
            "ALLERGY                0.027990  0.001913       -0.144300 -0.165750   \n",
            "WHEEZING               0.055011 -0.129426       -0.078515 -0.191807   \n",
            "ALCOHOL CONSUMING      0.058985 -0.050623       -0.289025 -0.165750   \n",
            "COUGHING               0.169950 -0.129471       -0.012640 -0.225644   \n",
            "SHORTNESS OF BREATH   -0.017513  0.061264       -0.105944 -0.144077   \n",
            "SWALLOWING DIFFICULTY -0.001270  0.030718        0.345904  0.489403   \n",
            "CHEST PAIN            -0.018104  0.120117       -0.104829 -0.113634   \n",
            "\n",
            "                       PEER_PRESSURE  CHRONIC DISEASE  FATIGUE   ALLERGY   \\\n",
            "AGE                         0.018685        -0.012642  0.012614  0.027990   \n",
            "SMOKING                    -0.042822        -0.141522 -0.029575  0.001913   \n",
            "YELLOW_FINGERS              0.323083         0.041122 -0.118058 -0.144300   \n",
            "ANXIETY                     0.216841        -0.009678 -0.188538 -0.165750   \n",
            "PEER_PRESSURE               1.000000         0.048515  0.078148 -0.081800   \n",
            "CHRONIC DISEASE             0.048515         1.000000 -0.110529  0.106386   \n",
            "FATIGUE                     0.078148        -0.110529  1.000000  0.003056   \n",
            "ALLERGY                    -0.081800         0.106386  0.003056  1.000000   \n",
            "WHEEZING                   -0.068771        -0.049967  0.141937  0.173867   \n",
            "ALCOHOL CONSUMING          -0.159973         0.002150 -0.191377  0.344339   \n",
            "COUGHING                   -0.089019        -0.175287  0.146856  0.189524   \n",
            "SHORTNESS OF BREATH        -0.220175        -0.026459  0.441745 -0.030056   \n",
            "SWALLOWING DIFFICULTY       0.366590         0.075176 -0.132790 -0.061508   \n",
            "CHEST PAIN                 -0.094828        -0.036938 -0.010832  0.239433   \n",
            "\n",
            "                       WHEEZING  ALCOHOL CONSUMING  COUGHING  \\\n",
            "AGE                    0.055011           0.058985  0.169950   \n",
            "SMOKING               -0.129426          -0.050623 -0.129471   \n",
            "YELLOW_FINGERS        -0.078515          -0.289025 -0.012640   \n",
            "ANXIETY               -0.191807          -0.165750 -0.225644   \n",
            "PEER_PRESSURE         -0.068771          -0.159973 -0.089019   \n",
            "CHRONIC DISEASE       -0.049967           0.002150 -0.175287   \n",
            "FATIGUE                0.141937          -0.191377  0.146856   \n",
            "ALLERGY                0.173867           0.344339  0.189524   \n",
            "WHEEZING               1.000000           0.265659  0.374265   \n",
            "ALCOHOL CONSUMING      0.265659           1.000000  0.202720   \n",
            "COUGHING               0.374265           0.202720  1.000000   \n",
            "SHORTNESS OF BREATH    0.037834          -0.179416  0.277385   \n",
            "SWALLOWING DIFFICULTY  0.069027          -0.009294 -0.157586   \n",
            "CHEST PAIN             0.147640           0.331226  0.083958   \n",
            "\n",
            "                       SHORTNESS OF BREATH  SWALLOWING DIFFICULTY  CHEST PAIN  \n",
            "AGE                              -0.017513              -0.001270   -0.018104  \n",
            "SMOKING                           0.061264               0.030718    0.120117  \n",
            "YELLOW_FINGERS                   -0.105944               0.345904   -0.104829  \n",
            "ANXIETY                          -0.144077               0.489403   -0.113634  \n",
            "PEER_PRESSURE                    -0.220175               0.366590   -0.094828  \n",
            "CHRONIC DISEASE                  -0.026459               0.075176   -0.036938  \n",
            "FATIGUE                           0.441745              -0.132790   -0.010832  \n",
            "ALLERGY                          -0.030056              -0.061508    0.239433  \n",
            "WHEEZING                          0.037834               0.069027    0.147640  \n",
            "ALCOHOL CONSUMING                -0.179416              -0.009294    0.331226  \n",
            "COUGHING                          0.277385              -0.157586    0.083958  \n",
            "SHORTNESS OF BREATH               1.000000              -0.161015    0.024256  \n",
            "SWALLOWING DIFFICULTY            -0.161015               1.000000    0.069027  \n",
            "CHEST PAIN                        0.024256               0.069027    1.000000  \n",
            "\n",
            "Spearman Correlation Matrix:\n",
            "                             AGE   SMOKING  YELLOW_FINGERS   ANXIETY  \\\n",
            "AGE                    1.000000 -0.076328        0.015732  0.047719   \n",
            "SMOKING               -0.076328  1.000000       -0.014585  0.160267   \n",
            "YELLOW_FINGERS         0.015732 -0.014585        1.000000  0.565829   \n",
            "ANXIETY                0.047719  0.160267        0.565829  1.000000   \n",
            "PEER_PRESSURE          0.013183 -0.042822        0.323083  0.216841   \n",
            "CHRONIC DISEASE       -0.007881 -0.141522        0.041122 -0.009678   \n",
            "FATIGUE                0.021446 -0.029575       -0.118058 -0.188538   \n",
            "ALLERGY                0.046602  0.001913       -0.144300 -0.165750   \n",
            "WHEEZING               0.052779 -0.129426       -0.078515 -0.191807   \n",
            "ALCOHOL CONSUMING      0.041229 -0.050623       -0.289025 -0.165750   \n",
            "COUGHING               0.175996 -0.129471       -0.012640 -0.225644   \n",
            "SHORTNESS OF BREATH   -0.002044  0.061264       -0.105944 -0.144077   \n",
            "SWALLOWING DIFFICULTY -0.016191  0.030718        0.345904  0.489403   \n",
            "CHEST PAIN            -0.027303  0.120117       -0.104829 -0.113634   \n",
            "\n",
            "                       PEER_PRESSURE  CHRONIC DISEASE  FATIGUE   ALLERGY   \\\n",
            "AGE                         0.013183        -0.007881  0.021446  0.046602   \n",
            "SMOKING                    -0.042822        -0.141522 -0.029575  0.001913   \n",
            "YELLOW_FINGERS              0.323083         0.041122 -0.118058 -0.144300   \n",
            "ANXIETY                     0.216841        -0.009678 -0.188538 -0.165750   \n",
            "PEER_PRESSURE               1.000000         0.048515  0.078148 -0.081800   \n",
            "CHRONIC DISEASE             0.048515         1.000000 -0.110529  0.106386   \n",
            "FATIGUE                     0.078148        -0.110529  1.000000  0.003056   \n",
            "ALLERGY                    -0.081800         0.106386  0.003056  1.000000   \n",
            "WHEEZING                   -0.068771        -0.049967  0.141937  0.173867   \n",
            "ALCOHOL CONSUMING          -0.159973         0.002150 -0.191377  0.344339   \n",
            "COUGHING                   -0.089019        -0.175287  0.146856  0.189524   \n",
            "SHORTNESS OF BREATH        -0.220175        -0.026459  0.441745 -0.030056   \n",
            "SWALLOWING DIFFICULTY       0.366590         0.075176 -0.132790 -0.061508   \n",
            "CHEST PAIN                 -0.094828        -0.036938 -0.010832  0.239433   \n",
            "\n",
            "                       WHEEZING  ALCOHOL CONSUMING  COUGHING  \\\n",
            "AGE                    0.052779           0.041229  0.175996   \n",
            "SMOKING               -0.129426          -0.050623 -0.129471   \n",
            "YELLOW_FINGERS        -0.078515          -0.289025 -0.012640   \n",
            "ANXIETY               -0.191807          -0.165750 -0.225644   \n",
            "PEER_PRESSURE         -0.068771          -0.159973 -0.089019   \n",
            "CHRONIC DISEASE       -0.049967           0.002150 -0.175287   \n",
            "FATIGUE                0.141937          -0.191377  0.146856   \n",
            "ALLERGY                0.173867           0.344339  0.189524   \n",
            "WHEEZING               1.000000           0.265659  0.374265   \n",
            "ALCOHOL CONSUMING      0.265659           1.000000  0.202720   \n",
            "COUGHING               0.374265           0.202720  1.000000   \n",
            "SHORTNESS OF BREATH    0.037834          -0.179416  0.277385   \n",
            "SWALLOWING DIFFICULTY  0.069027          -0.009294 -0.157586   \n",
            "CHEST PAIN             0.147640           0.331226  0.083958   \n",
            "\n",
            "                       SHORTNESS OF BREATH  SWALLOWING DIFFICULTY  CHEST PAIN  \n",
            "AGE                              -0.002044              -0.016191   -0.027303  \n",
            "SMOKING                           0.061264               0.030718    0.120117  \n",
            "YELLOW_FINGERS                   -0.105944               0.345904   -0.104829  \n",
            "ANXIETY                          -0.144077               0.489403   -0.113634  \n",
            "PEER_PRESSURE                    -0.220175               0.366590   -0.094828  \n",
            "CHRONIC DISEASE                  -0.026459               0.075176   -0.036938  \n",
            "FATIGUE                           0.441745              -0.132790   -0.010832  \n",
            "ALLERGY                          -0.030056              -0.061508    0.239433  \n",
            "WHEEZING                          0.037834               0.069027    0.147640  \n",
            "ALCOHOL CONSUMING                -0.179416              -0.009294    0.331226  \n",
            "COUGHING                          0.277385              -0.157586    0.083958  \n",
            "SHORTNESS OF BREATH               1.000000              -0.161015    0.024256  \n",
            "SWALLOWING DIFFICULTY            -0.161015               1.000000    0.069027  \n",
            "CHEST PAIN                        0.024256               0.069027    1.000000  \n"
          ]
        }
      ]
    },
    {
      "cell_type": "markdown",
      "source": [
        "5. 가설검정과 A/B 테스트\n",
        "\n",
        "*   주어진 데이터를 사용하여 A/B 테스트를 설계하고, 가설을 설정한 후 통계적 검정을 수행하세요. 결과를 해석하고 결론을 도출해보세요.\n",
        "*   본인의 수집한 데이터에서 가설검정, A/B 테스트를 수행해보기 어렵다면 어떤 가설을 설정하고 A/B 테스트를 어떻게 설계했을지 생각해보세요.\n"
      ],
      "metadata": {
        "id": "howjtSZsisjA"
      }
    },
    {
      "cell_type": "code",
      "source": [
        "from scipy import stats\n",
        "\n",
        "\"\"\"\n",
        "T-통계량의 절대값이 크면 클수록 두 그룹 간의 차이가 크다고 할 수 있습니다.\n",
        "\n",
        "일반적으로 P-값이 0.05보다 작으면 귀무 가설을 기각하고, 통계적으로 유의미한 차이가 있음을 인정합니다\n",
        "\"\"\"\n",
        "\n",
        "# 남성과 여성 그룹 데이터 분할\n",
        "male_max_hr = data[data['GENDER'] == 'Male']['SMOKING']\n",
        "female_max_hr = data[data['GENDER'] == 'Female']['SMOKING']\n",
        "\n",
        "# 두 그룹 간의 평균 흡연?\n",
        "t_stat, p_val = stats.ttest_ind(male_max_hr, female_max_hr)\n",
        "print(f\"T-statistic: {t_stat}, P-value: {p_val}\")\n"
      ],
      "metadata": {
        "colab": {
          "base_uri": "https://localhost:8080/"
        },
        "id": "Snyg8FdCRsp0",
        "outputId": "6c3ad1a4-44c0-48e0-83e6-4839a54679e0"
      },
      "execution_count": 18,
      "outputs": [
        {
          "output_type": "stream",
          "name": "stdout",
          "text": [
            "T-statistic: nan, P-value: nan\n"
          ]
        }
      ]
    }
  ]
}