{
  "nbformat": 4,
  "nbformat_minor": 0,
  "metadata": {
    "colab": {
      "provenance": [],
      "include_colab_link": true
    },
    "kernelspec": {
      "name": "python3",
      "display_name": "Python 3"
    },
    "language_info": {
      "name": "python"
    }
  },
  "cells": [
    {
      "cell_type": "markdown",
      "metadata": {
        "id": "view-in-github",
        "colab_type": "text"
      },
      "source": [
        "<a href=\"https://colab.research.google.com/github/myungseonSim/kakao-tech/blob/main/GenAi/KTB_Day3.ipynb\" target=\"_parent\"><img src=\"https://colab.research.google.com/assets/colab-badge.svg\" alt=\"Open In Colab\"/></a>"
      ]
    },
    {
      "cell_type": "markdown",
      "source": [
        "# 파이썬 프로그래밍 종합 실습\n",
        "기본 문법 복습, 자료형, 함수, 클래스와 객체지향 프로그래밍, 제너레이터와 이터레이터, 파일 입출력, 예외 처리를 종합적으로 활용합니다."
      ],
      "metadata": {
        "id": "zr5LnyrKxjNd"
      }
    },
    {
      "cell_type": "markdown",
      "source": [
        "1. 파이썬 기본 문법 복습 및 자료형\n",
        "\n",
        "문제:\n",
        "\n",
        "사용자로부터 이름, 나이, 이메일을 입력받아 딕셔너리에 저장하는 프로그램을 작성하세요.\n",
        "\n",
        "나이와 이메일의 형식을 검증하고, 잘못된 입력이 있으면 예외 처리를 하세요."
      ],
      "metadata": {
        "id": "MwJQm7MJxvAk"
      }
    },
    {
      "cell_type": "code",
      "execution_count": null,
      "metadata": {
        "id": "yKTAculHxfMp",
        "colab": {
          "base_uri": "https://localhost:8080/"
        },
        "outputId": "c8ff6fcc-5f83-48fd-b3da-eab53779ecd9"
      },
      "outputs": [
        {
          "output_type": "stream",
          "name": "stdout",
          "text": [
            "이름을 입력하시오.lucy\n",
            "나이를 입력하시오.26\n",
            "이메일을 입력하시오.aud@\n",
            "{'name': 'lucy', 'age': 26, 'email': 'aud@'}\n"
          ]
        }
      ],
      "source": [
        "my_dict = {}\n",
        "\n",
        "name = input(\"이름을 입력하시오.\")\n",
        "age = input(\"나이를 입력하시오.\")\n",
        "email = input(\"이메일을 입력하시오.\")\n",
        "\n",
        "def validate_name(name):\n",
        "    my_dict['name'] = name\n",
        "\n",
        "def validate_age(age):\n",
        "    my_dict['age'] = int(age)\n",
        "\n",
        "def validate_email(email):\n",
        "    my_dict['email'] = email\n",
        "\n",
        "try:\n",
        "    validate_name(name)\n",
        "    validate_age(age)\n",
        "    validate_email(email)\n",
        "except:\n",
        "    print(\"잘못된 입력입니다.\")\n",
        "\n",
        "print(my_dict)\n"
      ]
    },
    {
      "cell_type": "markdown",
      "source": [
        "2. 함수 및 클래스와 객체지향 프로그래밍\n",
        "\n",
        "문제:\n",
        "\n",
        "간단한 계산기 클래스를 작성하세요. 이 클래스는 덧셈, 뺄셈, 곱셈, 나눗셈 메서드를 포함합니다.\n",
        "\n",
        "사용자로부터 두 숫자와 연산자를 입력받아 계산 결과를 출력하는 프로그램을 작성하세요."
      ],
      "metadata": {
        "id": "in-rBALsyK33"
      }
    },
    {
      "cell_type": "code",
      "source": [
        "class Calculator:\n",
        "    def __init__(self, x, y):\n",
        "        self.x = x\n",
        "        self.y = y\n",
        "\n",
        "    def add(self):\n",
        "        result = self.x + self.y\n",
        "        return result\n",
        "\n",
        "    def subtract(self):\n",
        "        result = self.x - self.y\n",
        "        return result\n",
        "\n",
        "    def multiply(self):\n",
        "        result = self.x * self.y\n",
        "        return result\n",
        "\n",
        "    def divide(self):\n",
        "        result = self.x / self.y\n",
        "        return result\n",
        "\n",
        "a, b = map(int, input(\"두 수를 하나의 공백을 두고 입력하시오.\").split())\n",
        "num = Calculator(a, b)\n",
        "calculate = input(\"연산자를 입력 : \")\n",
        "\n",
        "if calculate == \"+\":\n",
        "    print(num.add())\n",
        "elif calculate == \"-\":\n",
        "    print(num.subtract())\n",
        "elif calculate == \"*\":\n",
        "    print(num.multiply())\n",
        "elif calculate == \"/\":\n",
        "    print(num.divide())\n",
        "else:\n",
        "    print(\"잘못된 연산자입니다.\")"
      ],
      "metadata": {
        "id": "v-Yn0ydQyQMO",
        "outputId": "8a545b72-8bf8-4b32-bc05-f549a5b88042",
        "colab": {
          "base_uri": "https://localhost:8080/"
        }
      },
      "execution_count": null,
      "outputs": [
        {
          "output_type": "stream",
          "name": "stdout",
          "text": [
            "두 수를 하나의 공백을 두고 입력하시오.3 4\n",
            "연산자를 입력 : *\n",
            "12\n"
          ]
        }
      ]
    },
    {
      "cell_type": "markdown",
      "source": [
        "3. 제너레이터와 이터레이터\n",
        "\n",
        "문제:\n",
        "\n",
        "피보나치 수열을 생성하는 제너레이터 함수를 작성하세요.\n",
        "피보나치 수열의 첫 10개 값을 출력하세요."
      ],
      "metadata": {
        "id": "OlDjuxSlyZOi"
      }
    },
    {
      "cell_type": "code",
      "source": [
        "def fibonacci(n):\n",
        "    a, b = 0, 1\n",
        "    for i in range(n):\n",
        "        yield a\n",
        "        a, b = b, a + b\n",
        "    return 0\n",
        "\n",
        "fibo = fibonacci(10)\n",
        "\n",
        "for i in fibo:\n",
        "    print(i)"
      ],
      "metadata": {
        "id": "BkI1jD4GydEa",
        "colab": {
          "base_uri": "https://localhost:8080/"
        },
        "outputId": "15c49b39-7971-4fca-ce60-e97153176039"
      },
      "execution_count": null,
      "outputs": [
        {
          "output_type": "stream",
          "name": "stdout",
          "text": [
            "0\n",
            "1\n",
            "1\n",
            "2\n",
            "3\n",
            "5\n",
            "8\n",
            "13\n",
            "21\n",
            "34\n"
          ]
        }
      ]
    },
    {
      "cell_type": "markdown",
      "source": [
        "4. 파일 입출력\n",
        "\n",
        "문제:\n",
        "\n",
        "사용자로부터 입력받은 데이터를 파일에 저장하고, 파일 내용을 읽어 출력하는 프로그램을 작성하세요.\n",
        "\n",
        "데이터는 JSON 형식으로 저장하세요"
      ],
      "metadata": {
        "id": "O-_Q0pRUycx0"
      }
    },
    {
      "cell_type": "code",
      "source": [
        "import json\n",
        "\n",
        "data = {'name':'Lucy',\n",
        "        'age':'26',\n",
        "        'sex':'male'}\n",
        "\n",
        "with open('first.json','w') as f:\n",
        "    f.write(str(data))\n",
        "\n",
        "with open('first.json','r') as f:\n",
        "    content = f.read()\n",
        "    print(content)"
      ],
      "metadata": {
        "id": "nyLTxXTHyqKE",
        "colab": {
          "base_uri": "https://localhost:8080/"
        },
        "outputId": "47f7073b-4405-4914-de86-833bfbd39f2b"
      },
      "execution_count": null,
      "outputs": [
        {
          "output_type": "stream",
          "name": "stdout",
          "text": [
            "{'name': 'Lucy', 'age': '26', 'sex': 'male'}\n"
          ]
        }
      ]
    },
    {
      "cell_type": "markdown",
      "source": [
        "5. Database 연동\n",
        "\n",
        "문제:\n",
        "\n",
        "SQLite 데이터베이스에 사용자 정보를 저장하고, 저장된 데이터를 조회하여 출력하는 프로그램을 작성하세요.\n",
        "\n",
        "테이블은 users로 하고, id, name, age, email 컬럼을 포함합니다."
      ],
      "metadata": {
        "id": "snEMYElhy3Q3"
      }
    },
    {
      "cell_type": "code",
      "source": [
        "import sqlite3\n",
        "\n",
        "connection = sqlite3.connect('database')\n",
        "cursor = connection.cursor()\n",
        "print(connection)"
      ],
      "metadata": {
        "id": "d8BgUC0ky6_b",
        "colab": {
          "base_uri": "https://localhost:8080/"
        },
        "outputId": "c4389f5d-20ce-443f-a5a0-42ee2d17c70c"
      },
      "execution_count": null,
      "outputs": [
        {
          "output_type": "stream",
          "name": "stdout",
          "text": [
            "<sqlite3.Connection object at 0x7d1a94d1da40>\n"
          ]
        }
      ]
    },
    {
      "cell_type": "markdown",
      "source": [
        "6. 예외 처리\n",
        "\n",
        "문제:\n",
        "\n",
        "사용자로부터 숫자를 입력받아, 그 숫자를 10으로 나누는 프로그램을 작성하세요.\n",
        "\n",
        "0으로 나누는 경우와 숫자가 아닌 값을 입력받는 경우를 처리하세요."
      ],
      "metadata": {
        "id": "qFd9nMWdzMaw"
      }
    },
    {
      "cell_type": "code",
      "source": [
        "num = input(\"숫자를 입력하시오.\")\n",
        "\n",
        "try:\n",
        "    result = 10 / int(num)\n",
        "except ZeroDivisionError as e:\n",
        "    print(\"0으로 나눌 수 없습니다.\")\n",
        "except ValueError as e:\n",
        "    print(\"숫자가 아닙니다.\")\n",
        "else:\n",
        "    print(result)\n",
        "finally:\n",
        "    print(\"프로그램이 종료되었습니다.\")"
      ],
      "metadata": {
        "id": "B_0S33jOzPDJ",
        "colab": {
          "base_uri": "https://localhost:8080/"
        },
        "outputId": "72fd599c-cd4e-4578-f7e6-aa6ad781115a"
      },
      "execution_count": null,
      "outputs": [
        {
          "output_type": "stream",
          "name": "stdout",
          "text": [
            "숫자를 입력하시오.10\n",
            "1.0\n",
            "프로그램이 종료되었습니다.\n"
          ]
        }
      ]
    }
  ]
}